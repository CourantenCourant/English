{
 "cells": [
  {
   "cell_type": "markdown",
   "id": "6568802c-883f-4ff5-b470-bf80cdf42954",
   "metadata": {
    "tags": []
   },
   "source": [
    "---\n",
    "\n",
    "# Sentence vectors and Cosine Similarity\n",
    "\n",
    "---"
   ]
  },
  {
   "cell_type": "markdown",
   "id": "0ee2a1cf-3ffd-4390-8788-f782398c3384",
   "metadata": {},
   "source": [
    "For this exercise, you must :\n",
    "* Create a few of sentences to use as toy examples\n",
    "* Create a vocabulary, a list of the tokens to be found in all of the toy sentences\n",
    "* Create a dictionary called `word2idx`.  The keys are the vocab tokens and the values are integers that are the tokens' unique ids.\n",
    "* Next make a function which allows you to vectorize a sentence. To make the vector, get the frequency of each token in the sentence .  Then, using your `word2idx` dict, add the frequenceis to the corrsponding indices in your vector.  Your vector should be a numpy array.\n",
    "* Lastly, create a `cosine_simil`function, implementing the formula which returns the cosine similarity between 2 vectors. \n",
    "\n",
    "$$ simil(\\mathbf{a,b}) = \\frac{\\mathbf a \\cdot \\mathbf b}{\\Vert \\mathbf a \\Vert \\times \\lVert \\mathbf b \\rVert} = cos \\theta$$  \n",
    "\n",
    "Remember the Euclidian norm of a vector is defined as   \n",
    "\n",
    "$$ \\Vert a \\Vert = \\sqrt{\\sum_{i=1}^{n}{a_i^2}} $$ \n",
    "\n",
    "* Using some of the toy sentences you created, test out their similarities by first vectorizing them and then computing their representation's cosine similarity.\n",
    "\n"
   ]
  }
 ],
 "metadata": {
  "kernelspec": {
   "display_name": "Python 3 (ipykernel)",
   "language": "python",
   "name": "python3"
  },
  "language_info": {
   "codemirror_mode": {
    "name": "ipython",
    "version": 3
   },
   "file_extension": ".py",
   "mimetype": "text/x-python",
   "name": "python",
   "nbconvert_exporter": "python",
   "pygments_lexer": "ipython3",
   "version": "3.9.7"
  }
 },
 "nbformat": 4,
 "nbformat_minor": 5
}
