{
 "cells": [
  {
   "cell_type": "markdown",
   "id": "d3c94dcf-c3b3-4015-92b1-59836cee410a",
   "metadata": {},
   "source": [
    "# Single Variable (Univariate) Linear Regression"
   ]
  },
  {
   "cell_type": "markdown",
   "id": "bd03a7be-d861-48bb-9e06-5e86e001c3ae",
   "metadata": {},
   "source": [
    "Using the toy dataset loaded below, the goal is to write the linear regression algorithm with Gradient Descent from scratch ! This will help you familiarize yourselves with the essential steps of most machine learning algorithms."
   ]
  },
  {
   "cell_type": "markdown",
   "id": "e74dd827-39c2-40f7-95c9-bf74ca095b86",
   "metadata": {},
   "source": [
    "## The Data\n",
    "This is a toy dataset of 100 examples, where the lot area is in m2 and the sale price is in thousands.  The sale prices have been divided by a factor of thousand to have features and labels on a similar scale."
   ]
  },
  {
   "cell_type": "code",
   "execution_count": 2,
   "id": "92cf68b2-b28e-466f-9779-0dae5aa12882",
   "metadata": {},
   "outputs": [
    {
     "data": {
      "text/html": [
       "<div>\n",
       "<style scoped>\n",
       "    .dataframe tbody tr th:only-of-type {\n",
       "        vertical-align: middle;\n",
       "    }\n",
       "\n",
       "    .dataframe tbody tr th {\n",
       "        vertical-align: top;\n",
       "    }\n",
       "\n",
       "    .dataframe thead th {\n",
       "        text-align: right;\n",
       "    }\n",
       "</style>\n",
       "<table border=\"1\" class=\"dataframe\">\n",
       "  <thead>\n",
       "    <tr style=\"text-align: right;\">\n",
       "      <th></th>\n",
       "      <th>LotArea</th>\n",
       "      <th>SalePrice</th>\n",
       "    </tr>\n",
       "  </thead>\n",
       "  <tbody>\n",
       "    <tr>\n",
       "      <th>0</th>\n",
       "      <td>32.502345</td>\n",
       "      <td>31.707006</td>\n",
       "    </tr>\n",
       "    <tr>\n",
       "      <th>1</th>\n",
       "      <td>53.426804</td>\n",
       "      <td>68.777596</td>\n",
       "    </tr>\n",
       "    <tr>\n",
       "      <th>2</th>\n",
       "      <td>61.530358</td>\n",
       "      <td>62.562382</td>\n",
       "    </tr>\n",
       "    <tr>\n",
       "      <th>3</th>\n",
       "      <td>47.475640</td>\n",
       "      <td>71.546632</td>\n",
       "    </tr>\n",
       "    <tr>\n",
       "      <th>4</th>\n",
       "      <td>59.813208</td>\n",
       "      <td>87.230925</td>\n",
       "    </tr>\n",
       "  </tbody>\n",
       "</table>\n",
       "</div>"
      ],
      "text/plain": [
       "     LotArea  SalePrice\n",
       "0  32.502345  31.707006\n",
       "1  53.426804  68.777596\n",
       "2  61.530358  62.562382\n",
       "3  47.475640  71.546632\n",
       "4  59.813208  87.230925"
      ]
     },
     "execution_count": 2,
     "metadata": {},
     "output_type": "execute_result"
    }
   ],
   "source": [
    "# Imports\n",
    "import numpy as np\n",
    "import pandas as pd\n",
    "import matplotlib.pyplot as plt\n",
    "\n",
    "# Preprocessing Input data\n",
    "data = pd.read_csv('data.csv', names=['LotArea', 'SalePrice'])\n",
    "data.head()"
   ]
  },
  {
   "cell_type": "code",
   "execution_count": 4,
   "id": "8e52173f-66c3-415d-be51-bbbf6064a46e",
   "metadata": {},
   "outputs": [
    {
     "data": {
      "image/png": "[encoded data removed]",
      "text/plain": [
       "<Figure size 432x288 with 1 Axes>"
      ]
     },
     "metadata": {
      "needs_background": "light"
     },
     "output_type": "display_data"
    }
   ],
   "source": [
    "X = data.iloc[:, 0] \n",
    "labels = data.iloc[:, 1]\n",
    "plt.scatter(X, labels)\n",
    "plt.show()"
   ]
  },
  {
   "cell_type": "markdown",
   "id": "087defb1-e357-4a6b-b111-346afa2eb32e",
   "metadata": {},
   "source": [
    "## The model"
   ]
  },
  {
   "cell_type": "markdown",
   "id": "d0cbb2e6-8694-4253-af93-adeb40fe659c",
   "metadata": {},
   "source": [
    "For single variable linear regression, our model is defined by the function:  \n",
    "$$h(x) = \\theta_0 + \\theta_1x$$"
   ]
  },
  {
   "cell_type": "markdown",
   "id": "f039293e-2a45-4679-a855-2b36d9ea64de",
   "metadata": {},
   "source": [
    "Write a function which returns an array of predictions, using as input :\n",
    "* an array of examples with a single feature\n",
    "* the parameters of the model."
   ]
  },
  {
   "cell_type": "code",
   "execution_count": 6,
   "id": "4accd0ae-2de1-4e59-b348-aa5bff7ab368",
   "metadata": {},
   "outputs": [],
   "source": [
    "def predict(X, theta0, theta1):\n",
    "    \n",
    "    # transcribe the formula above, easy enough :\n",
    "    preds = None\n",
    "    \n",
    "    return preds"
   ]
  },
  {
   "cell_type": "code",
   "execution_count": 8,
   "id": "c190b280-ffcd-418a-9baa-08611e50c246",
   "metadata": {},
   "outputs": [],
   "source": [
    "# you should have an array of predictions\n",
    "predict(X, theta0=1, theta1=1)"
   ]
  },
  {
   "cell_type": "markdown",
   "id": "49fb0583-29a4-4379-b275-5e1810f42521",
   "metadata": {},
   "source": [
    "**Expected output for the first example is 54.43**"
   ]
  },
  {
   "cell_type": "markdown",
   "id": "84585d22-4808-4c65-9351-8c1a436a93ac",
   "metadata": {},
   "source": [
    "## The Cost function"
   ]
  },
  {
   "cell_type": "markdown",
   "id": "4ce61442-4c03-442d-b1bd-6c1eb151aef7",
   "metadata": {},
   "source": [
    "The cost function allows you to evaluate how good your model fits the data.  In this case, we are going to use the MSE (Mean Squared Error) loss, defined as :\n",
    "$$ J(\\theta_0, \\theta_1) = \\frac{1}{2m}\\sum_{i=1}^m (h(x^i) - y^i)^2 $$ \n",
    "\n",
    "where *m* is the number of examples, so 100 in our case.\n",
    "\n",
    "This gives us the average error over our model's predictions.  Write a function which outputs this cost."
   ]
  },
  {
   "cell_type": "code",
   "execution_count": 9,
   "id": "c97eaaf0-c830-437a-90a1-fdd3b3000425",
   "metadata": {},
   "outputs": [],
   "source": [
    "def cost(preds, labels):\n",
    "    \"\"\"\n",
    "    Preds and labels are numpy arrays, so no need to use \"for\" loops !\n",
    "    Try doing some of the operations on paper with numpy arrays of only 2-3 examples to make things easier.\n",
    "    \"\"\"\n",
    "    # length of the dataset\n",
    "    m = None\n",
    "    \n",
    "    # write out the formula above without using a for loop to go through each elment of the predictions array.\n",
    "    \n",
    "    # predictions - labels => the array of differences\n",
    "    differences = None\n",
    "    \n",
    "    # Square the differences\n",
    "    diff_squared = None\n",
    "    \n",
    "    # Sum the squared differences and divide by 2m :\n",
    "    loss = None\n",
    "    \n",
    "    return loss"
   ]
  },
  {
   "cell_type": "code",
   "execution_count": 13,
   "id": "49b1f982-a55f-4702-aa82-8fcd20ae31e3",
   "metadata": {},
   "outputs": [],
   "source": [
    "# test your function\n",
    "cost(labels+1, labels)"
   ]
  },
  {
   "cell_type": "markdown",
   "id": "e74b2653-8d1c-4b1f-aa76-37885bdaf504",
   "metadata": {},
   "source": [
    "**Expected output is 0.5**"
   ]
  },
  {
   "cell_type": "markdown",
   "id": "26b1ec25-2f16-4b56-814d-8c24d4ddd140",
   "metadata": {},
   "source": [
    "## Gradient Descent"
   ]
  },
  {
   "cell_type": "markdown",
   "id": "3a807f77-938c-4bfd-a809-f67974b1fad5",
   "metadata": {},
   "source": [
    "Gradient Descent performs updates on the weights of the model, in order to minimize the cost/loss (these can be used interchangeably).  \n",
    "Here is the formula for the update of each parameter in the model :\n",
    "$$ \\theta_0 = \\theta_0 - \\alpha  \\frac{1}{m} \\sum_{i=1}^{m}(h(x^i) - y^i) $$\n",
    "$$ \\theta_1 = \\theta_1 - \\alpha  \\frac{1}{m} \\sum_{i=1}^{m}(h(x^i) - y^i)x^i$$ "
   ]
  },
  {
   "cell_type": "markdown",
   "id": "41544ca5-e98c-4357-bf0a-545ea3115130",
   "metadata": {},
   "source": [
    "Where *alpha* is the `learning_rate` (the size of the update steps we want to take) and the term on the right is the formula for the partial derivative of the cost function, with respect to each parameter.\n",
    "Write a function which performs these updates."
   ]
  },
  {
   "cell_type": "code",
   "execution_count": 16,
   "id": "9f568668-ee87-4a61-afa5-8de2a7808a83",
   "metadata": {},
   "outputs": [],
   "source": [
    "def gradient_descent(learning_rate, X, preds, labels, theta0, theta1):\n",
    "    \n",
    "    # write out the part of the formula which comes right after alpha, the partial derivatives :\n",
    "    \n",
    "    # difference preds/labels\n",
    "    difference = None\n",
    "\n",
    "    \n",
    "    # for theta 1, each difference int he array of differences needs to be multiplied by its example x :\n",
    "    difference_X = None\n",
    "    \n",
    "    # all that's left is applying the mean (sum/m) to get the partial derivatives of each parameter :\n",
    "    partial_theta0 = None\n",
    "    \n",
    "    partial_theta1 = None\n",
    "    \n",
    "    \n",
    "    # update the parameters!\n",
    "    theta0 -= None\n",
    "    theta1 -= None\n",
    "    \n",
    "    return theta0, theta1"
   ]
  },
  {
   "cell_type": "markdown",
   "id": "071b3a48-010f-4517-955f-0248b33223f6",
   "metadata": {},
   "source": [
    "## Main Loop"
   ]
  },
  {
   "cell_type": "markdown",
   "id": "377e0267-786a-4408-bfcc-d758e0777be8",
   "metadata": {},
   "source": [
    "We can now go through the data and fit our model :"
   ]
  },
  {
   "cell_type": "code",
   "execution_count": 24,
   "id": "49f80008-93ba-4747-ab73-c6f5a119f492",
   "metadata": {},
   "outputs": [
    {
     "name": "stdout",
     "output_type": "stream",
     "text": [
      "epoch 0\n"
     ]
    },
    {
     "ename": "ValueError",
     "evalue": "x and y must be the same size",
     "output_type": "error",
     "traceback": [
      "\u001b[0;31m---------------------------------------------------------------------------\u001b[0m",
      "\u001b[0;31mValueError\u001b[0m                                Traceback (most recent call last)",
      "Input \u001b[0;32mIn [24]\u001b[0m, in \u001b[0;36m<module>\u001b[0;34m\u001b[0m\n\u001b[1;32m     25\u001b[0m \u001b[38;5;66;03m# plot the model to have a visual intuition of the model's progress\u001b[39;00m\n\u001b[1;32m     26\u001b[0m \u001b[38;5;28mprint\u001b[39m(\u001b[38;5;124mf\u001b[39m\u001b[38;5;124m'\u001b[39m\u001b[38;5;124mepoch \u001b[39m\u001b[38;5;132;01m{\u001b[39;00mi\u001b[38;5;132;01m}\u001b[39;00m\u001b[38;5;124m'\u001b[39m)\n\u001b[0;32m---> 27\u001b[0m \u001b[43mplt\u001b[49m\u001b[38;5;241;43m.\u001b[39;49m\u001b[43mscatter\u001b[49m\u001b[43m(\u001b[49m\u001b[43mX\u001b[49m\u001b[43m,\u001b[49m\u001b[43m \u001b[49m\u001b[43mlabels\u001b[49m\u001b[43m)\u001b[49m\n\u001b[1;32m     28\u001b[0m plt\u001b[38;5;241m.\u001b[39mplot([\u001b[38;5;28mmin\u001b[39m(X), \u001b[38;5;28mmax\u001b[39m(X)], [\u001b[38;5;28mmin\u001b[39m(Y_pred), \u001b[38;5;28mmax\u001b[39m(Y_pred)], color\u001b[38;5;241m=\u001b[39m\u001b[38;5;124m'\u001b[39m\u001b[38;5;124mred\u001b[39m\u001b[38;5;124m'\u001b[39m) \u001b[38;5;66;03m# predicted\u001b[39;00m\n\u001b[1;32m     29\u001b[0m plt\u001b[38;5;241m.\u001b[39mshow()\n",
      "File \u001b[0;32m~/miniconda3/envs/ML/lib/python3.9/site-packages/matplotlib/pyplot.py:2807\u001b[0m, in \u001b[0;36mscatter\u001b[0;34m(x, y, s, c, marker, cmap, norm, vmin, vmax, alpha, linewidths, edgecolors, plotnonfinite, data, **kwargs)\u001b[0m\n\u001b[1;32m   2802\u001b[0m \u001b[38;5;129m@_copy_docstring_and_deprecators\u001b[39m(Axes\u001b[38;5;241m.\u001b[39mscatter)\n\u001b[1;32m   2803\u001b[0m \u001b[38;5;28;01mdef\u001b[39;00m \u001b[38;5;21mscatter\u001b[39m(\n\u001b[1;32m   2804\u001b[0m         x, y, s\u001b[38;5;241m=\u001b[39m\u001b[38;5;28;01mNone\u001b[39;00m, c\u001b[38;5;241m=\u001b[39m\u001b[38;5;28;01mNone\u001b[39;00m, marker\u001b[38;5;241m=\u001b[39m\u001b[38;5;28;01mNone\u001b[39;00m, cmap\u001b[38;5;241m=\u001b[39m\u001b[38;5;28;01mNone\u001b[39;00m, norm\u001b[38;5;241m=\u001b[39m\u001b[38;5;28;01mNone\u001b[39;00m,\n\u001b[1;32m   2805\u001b[0m         vmin\u001b[38;5;241m=\u001b[39m\u001b[38;5;28;01mNone\u001b[39;00m, vmax\u001b[38;5;241m=\u001b[39m\u001b[38;5;28;01mNone\u001b[39;00m, alpha\u001b[38;5;241m=\u001b[39m\u001b[38;5;28;01mNone\u001b[39;00m, linewidths\u001b[38;5;241m=\u001b[39m\u001b[38;5;28;01mNone\u001b[39;00m, \u001b[38;5;241m*\u001b[39m,\n\u001b[1;32m   2806\u001b[0m         edgecolors\u001b[38;5;241m=\u001b[39m\u001b[38;5;28;01mNone\u001b[39;00m, plotnonfinite\u001b[38;5;241m=\u001b[39m\u001b[38;5;28;01mFalse\u001b[39;00m, data\u001b[38;5;241m=\u001b[39m\u001b[38;5;28;01mNone\u001b[39;00m, \u001b[38;5;241m*\u001b[39m\u001b[38;5;241m*\u001b[39mkwargs):\n\u001b[0;32m-> 2807\u001b[0m     __ret \u001b[38;5;241m=\u001b[39m \u001b[43mgca\u001b[49m\u001b[43m(\u001b[49m\u001b[43m)\u001b[49m\u001b[38;5;241;43m.\u001b[39;49m\u001b[43mscatter\u001b[49m\u001b[43m(\u001b[49m\n\u001b[1;32m   2808\u001b[0m \u001b[43m        \u001b[49m\u001b[43mx\u001b[49m\u001b[43m,\u001b[49m\u001b[43m \u001b[49m\u001b[43my\u001b[49m\u001b[43m,\u001b[49m\u001b[43m \u001b[49m\u001b[43ms\u001b[49m\u001b[38;5;241;43m=\u001b[39;49m\u001b[43ms\u001b[49m\u001b[43m,\u001b[49m\u001b[43m \u001b[49m\u001b[43mc\u001b[49m\u001b[38;5;241;43m=\u001b[39;49m\u001b[43mc\u001b[49m\u001b[43m,\u001b[49m\u001b[43m \u001b[49m\u001b[43mmarker\u001b[49m\u001b[38;5;241;43m=\u001b[39;49m\u001b[43mmarker\u001b[49m\u001b[43m,\u001b[49m\u001b[43m \u001b[49m\u001b[43mcmap\u001b[49m\u001b[38;5;241;43m=\u001b[39;49m\u001b[43mcmap\u001b[49m\u001b[43m,\u001b[49m\u001b[43m \u001b[49m\u001b[43mnorm\u001b[49m\u001b[38;5;241;43m=\u001b[39;49m\u001b[43mnorm\u001b[49m\u001b[43m,\u001b[49m\n\u001b[1;32m   2809\u001b[0m \u001b[43m        \u001b[49m\u001b[43mvmin\u001b[49m\u001b[38;5;241;43m=\u001b[39;49m\u001b[43mvmin\u001b[49m\u001b[43m,\u001b[49m\u001b[43m \u001b[49m\u001b[43mvmax\u001b[49m\u001b[38;5;241;43m=\u001b[39;49m\u001b[43mvmax\u001b[49m\u001b[43m,\u001b[49m\u001b[43m \u001b[49m\u001b[43malpha\u001b[49m\u001b[38;5;241;43m=\u001b[39;49m\u001b[43malpha\u001b[49m\u001b[43m,\u001b[49m\u001b[43m \u001b[49m\u001b[43mlinewidths\u001b[49m\u001b[38;5;241;43m=\u001b[39;49m\u001b[43mlinewidths\u001b[49m\u001b[43m,\u001b[49m\n\u001b[1;32m   2810\u001b[0m \u001b[43m        \u001b[49m\u001b[43medgecolors\u001b[49m\u001b[38;5;241;43m=\u001b[39;49m\u001b[43medgecolors\u001b[49m\u001b[43m,\u001b[49m\u001b[43m \u001b[49m\u001b[43mplotnonfinite\u001b[49m\u001b[38;5;241;43m=\u001b[39;49m\u001b[43mplotnonfinite\u001b[49m\u001b[43m,\u001b[49m\n\u001b[1;32m   2811\u001b[0m \u001b[43m        \u001b[49m\u001b[38;5;241;43m*\u001b[39;49m\u001b[38;5;241;43m*\u001b[39;49m\u001b[43m(\u001b[49m\u001b[43m{\u001b[49m\u001b[38;5;124;43m\"\u001b[39;49m\u001b[38;5;124;43mdata\u001b[39;49m\u001b[38;5;124;43m\"\u001b[39;49m\u001b[43m:\u001b[49m\u001b[43m \u001b[49m\u001b[43mdata\u001b[49m\u001b[43m}\u001b[49m\u001b[43m \u001b[49m\u001b[38;5;28;43;01mif\u001b[39;49;00m\u001b[43m \u001b[49m\u001b[43mdata\u001b[49m\u001b[43m \u001b[49m\u001b[38;5;129;43;01mis\u001b[39;49;00m\u001b[43m \u001b[49m\u001b[38;5;129;43;01mnot\u001b[39;49;00m\u001b[43m \u001b[49m\u001b[38;5;28;43;01mNone\u001b[39;49;00m\u001b[43m \u001b[49m\u001b[38;5;28;43;01melse\u001b[39;49;00m\u001b[43m \u001b[49m\u001b[43m{\u001b[49m\u001b[43m}\u001b[49m\u001b[43m)\u001b[49m\u001b[43m,\u001b[49m\u001b[43m \u001b[49m\u001b[38;5;241;43m*\u001b[39;49m\u001b[38;5;241;43m*\u001b[39;49m\u001b[43mkwargs\u001b[49m\u001b[43m)\u001b[49m\n\u001b[1;32m   2812\u001b[0m     sci(__ret)\n\u001b[1;32m   2813\u001b[0m     \u001b[38;5;28;01mreturn\u001b[39;00m __ret\n",
      "File \u001b[0;32m~/miniconda3/envs/ML/lib/python3.9/site-packages/matplotlib/__init__.py:1412\u001b[0m, in \u001b[0;36m_preprocess_data.<locals>.inner\u001b[0;34m(ax, data, *args, **kwargs)\u001b[0m\n\u001b[1;32m   1409\u001b[0m \u001b[38;5;129m@functools\u001b[39m\u001b[38;5;241m.\u001b[39mwraps(func)\n\u001b[1;32m   1410\u001b[0m \u001b[38;5;28;01mdef\u001b[39;00m \u001b[38;5;21minner\u001b[39m(ax, \u001b[38;5;241m*\u001b[39margs, data\u001b[38;5;241m=\u001b[39m\u001b[38;5;28;01mNone\u001b[39;00m, \u001b[38;5;241m*\u001b[39m\u001b[38;5;241m*\u001b[39mkwargs):\n\u001b[1;32m   1411\u001b[0m     \u001b[38;5;28;01mif\u001b[39;00m data \u001b[38;5;129;01mis\u001b[39;00m \u001b[38;5;28;01mNone\u001b[39;00m:\n\u001b[0;32m-> 1412\u001b[0m         \u001b[38;5;28;01mreturn\u001b[39;00m \u001b[43mfunc\u001b[49m\u001b[43m(\u001b[49m\u001b[43max\u001b[49m\u001b[43m,\u001b[49m\u001b[43m \u001b[49m\u001b[38;5;241;43m*\u001b[39;49m\u001b[38;5;28;43mmap\u001b[39;49m\u001b[43m(\u001b[49m\u001b[43msanitize_sequence\u001b[49m\u001b[43m,\u001b[49m\u001b[43m \u001b[49m\u001b[43margs\u001b[49m\u001b[43m)\u001b[49m\u001b[43m,\u001b[49m\u001b[43m \u001b[49m\u001b[38;5;241;43m*\u001b[39;49m\u001b[38;5;241;43m*\u001b[39;49m\u001b[43mkwargs\u001b[49m\u001b[43m)\u001b[49m\n\u001b[1;32m   1414\u001b[0m     bound \u001b[38;5;241m=\u001b[39m new_sig\u001b[38;5;241m.\u001b[39mbind(ax, \u001b[38;5;241m*\u001b[39margs, \u001b[38;5;241m*\u001b[39m\u001b[38;5;241m*\u001b[39mkwargs)\n\u001b[1;32m   1415\u001b[0m     auto_label \u001b[38;5;241m=\u001b[39m (bound\u001b[38;5;241m.\u001b[39marguments\u001b[38;5;241m.\u001b[39mget(label_namer)\n\u001b[1;32m   1416\u001b[0m                   \u001b[38;5;129;01mor\u001b[39;00m bound\u001b[38;5;241m.\u001b[39mkwargs\u001b[38;5;241m.\u001b[39mget(label_namer))\n",
      "File \u001b[0;32m~/miniconda3/envs/ML/lib/python3.9/site-packages/matplotlib/axes/_axes.py:4323\u001b[0m, in \u001b[0;36mAxes.scatter\u001b[0;34m(self, x, y, s, c, marker, cmap, norm, vmin, vmax, alpha, linewidths, edgecolors, plotnonfinite, **kwargs)\u001b[0m\n\u001b[1;32m   4321\u001b[0m y \u001b[38;5;241m=\u001b[39m np\u001b[38;5;241m.\u001b[39mma\u001b[38;5;241m.\u001b[39mravel(y)\n\u001b[1;32m   4322\u001b[0m \u001b[38;5;28;01mif\u001b[39;00m x\u001b[38;5;241m.\u001b[39msize \u001b[38;5;241m!=\u001b[39m y\u001b[38;5;241m.\u001b[39msize:\n\u001b[0;32m-> 4323\u001b[0m     \u001b[38;5;28;01mraise\u001b[39;00m \u001b[38;5;167;01mValueError\u001b[39;00m(\u001b[38;5;124m\"\u001b[39m\u001b[38;5;124mx and y must be the same size\u001b[39m\u001b[38;5;124m\"\u001b[39m)\n\u001b[1;32m   4325\u001b[0m \u001b[38;5;28;01mif\u001b[39;00m s \u001b[38;5;129;01mis\u001b[39;00m \u001b[38;5;28;01mNone\u001b[39;00m:\n\u001b[1;32m   4326\u001b[0m     s \u001b[38;5;241m=\u001b[39m (\u001b[38;5;241m20\u001b[39m \u001b[38;5;28;01mif\u001b[39;00m rcParams[\u001b[38;5;124m'\u001b[39m\u001b[38;5;124m_internal.classic_mode\u001b[39m\u001b[38;5;124m'\u001b[39m] \u001b[38;5;28;01melse\u001b[39;00m\n\u001b[1;32m   4327\u001b[0m          rcParams[\u001b[38;5;124m'\u001b[39m\u001b[38;5;124mlines.markersize\u001b[39m\u001b[38;5;124m'\u001b[39m] \u001b[38;5;241m*\u001b[39m\u001b[38;5;241m*\u001b[39m \u001b[38;5;241m2.0\u001b[39m)\n",
      "\u001b[0;31mValueError\u001b[0m: x and y must be the same size"
     ]
    },
    {
     "data": {
      "image/png": "[encoded data removed]",
      "text/plain": [
       "<Figure size 432x288 with 1 Axes>"
      ]
     },
     "metadata": {
      "needs_background": "light"
     },
     "output_type": "display_data"
    }
   ],
   "source": [
    "import random\n",
    "\n",
    "# Choose the \"hyperparameters\" you want :\n",
    "# The learning rate, typically very low, between 1e-2 and 1e-6 depending on the task.  \n",
    "# 1e-4 is recommended to begin with in this case\n",
    "LR = 1e-4  \n",
    "# The number of passes over the dataset, ie. the number of times we update the weights.  These are alled \"epochs\".\n",
    "EPOCHS = 10  \n",
    "\n",
    "m = len(X) # Number of elements in X\n",
    "\n",
    "\n",
    "# Initilize the cost/loss to a very high value\n",
    "prev_loss = 1e9\n",
    "# Initialize the parameters, setting them to random values between 0 and 1:\n",
    "theta0, theta1 = random.random(), random.random()\n",
    "\n",
    "\n",
    "# Loop\n",
    "for i in range(EPOCHS): \n",
    "       \n",
    "    # compute the model's predictions\n",
    "    Y_pred = None\n",
    "    \n",
    "    # plot the model to have a visual intuition of the model's progress\n",
    "    print(f'epoch {i}')\n",
    "    plt.scatter(X, labels)\n",
    "    plt.plot([min(X), max(X)], [min(Y_pred), max(Y_pred)], color='red') # predicted\n",
    "    plt.show()\n",
    "    \n",
    "    \n",
    "    # compute the loss\n",
    "    loss = None\n",
    "    print(f'Loss = {loss}')\n",
    "    \n",
    "    # To see if the model is improving, compare this loss to the previous loss.\n",
    "    # if the difference is smaller than 1e-2, then we can consider the model has found the global minimum \n",
    "    # and there is no need to continue updating the weights.\n",
    "    \n",
    "    # if previous los - loss is smaller than 1e-2 :\n",
    "        \n",
    "        # break the for loop\n",
    "        \n",
    "    # if the difference is significant, update the previous loss\n",
    "    prev_loss = None\n",
    "                     \n",
    "    \n",
    "    # and update the parameters  \n",
    "    theta0, theta1 = None\n",
    "\n",
    "print(f'{theta0=}, {theta1=}')"
   ]
  },
  {
   "cell_type": "markdown",
   "id": "75f608b1-e181-4641-8f78-6c2d6d8fcd24",
   "metadata": {},
   "source": [
    "**Expected values** for theta0 and theta1 should be \n",
    "* theta0 => between 0 and 1\n",
    "* theta1 => close to 1.47"
   ]
  },
  {
   "cell_type": "markdown",
   "id": "3d328454-e976-448a-9961-9fde3d4b8b6a",
   "metadata": {},
   "source": [
    "Play around with the learning rates !! Set 10 epochs and comment out the condition with the break statement beforehand and then try:\n",
    "* 5e-4 : how many epochs til the loss stops changing ?\n",
    "* 1e-2 : what's going on with the model ?"
   ]
  },
  {
   "cell_type": "markdown",
   "id": "a1aa2698-6668-4161-b7ec-97d6f561a7f5",
   "metadata": {},
   "source": [
    "# Multivariate Linear Regression"
   ]
  },
  {
   "cell_type": "markdown",
   "id": "12250e33-3e17-4eda-9af6-caafe13db14e",
   "metadata": {},
   "source": [
    "You make look through this, but we will go through it together"
   ]
  },
  {
   "cell_type": "code",
   "execution_count": 18,
   "id": "2f1ec952-c68a-4299-a7a7-745698e86793",
   "metadata": {
    "tags": []
   },
   "outputs": [],
   "source": [
    "# Create a toy dataset\n",
    "\n",
    "X = np.random.randn(5, 500) # 5 features, 500 examples\n",
    "y = 3 * X[0, :] + np.random.randn(1, 500) * 0.1 # to vreate the labels, take the first row of X and add noise => *3, add random numbers*0.1\n",
    "\n",
    "\n",
    "X1 = np.ones((1, X.shape[1]))\n",
    "X = np.append(X, X1, axis=0) # add \"dummy\" features as a row of ones\n",
    "#print(X)"
   ]
  },
  {
   "cell_type": "code",
   "execution_count": 22,
   "id": "1dbf2af3-c5bf-404e-88d9-f28f0c983839",
   "metadata": {},
   "outputs": [],
   "source": [
    "# m => number of examples\n",
    "# n => number of features\n",
    "m = X.shape[1]\n",
    "n = X.shape[0]\n",
    "\n",
    "# initialize parameter/weight vector\n",
    "theta = np.random.randn(n, 1)"
   ]
  },
  {
   "cell_type": "code",
   "execution_count": 23,
   "id": "ef9a6a94-8d22-4581-a665-492f96ebd8a8",
   "metadata": {},
   "outputs": [
    {
     "name": "stdout",
     "output_type": "stream",
     "text": [
      "Loss is 7.6505861788921745 at epoch 0\n",
      "Loss is 0.005016593387225809 at epoch 2000\n",
      "Loss is 0.005016593387213702 at epoch 4000\n"
     ]
    }
   ],
   "source": [
    "lr = 1e-2\n",
    "epochs = 5000\n",
    "\n",
    "for epoch in range(epochs+1):\n",
    "    preds = np.dot(theta.reshape(1,-1), X)\n",
    "    loss = np.mean((preds - y)**2) / 2\n",
    "    #print(f'Loss : {loss}')\n",
    "    if epoch % 2000 == 0: \n",
    "        print(f'Loss is {loss} at epoch {epoch}')\n",
    "    \n",
    "    dL_dtheta = 1/m * np.dot(X, (preds-y).T)\n",
    "    theta -= lr * dL_dtheta\n",
    " "
   ]
  }
 ],
 "metadata": {
  "kernelspec": {
   "display_name": "Python 3 (ipykernel)",
   "language": "python",
   "name": "python3"
  },
  "language_info": {
   "codemirror_mode": {
    "name": "ipython",
    "version": 3
   },
   "file_extension": ".py",
   "mimetype": "text/x-python",
   "name": "python",
   "nbconvert_exporter": "python",
   "pygments_lexer": "ipython3",
   "version": "3.9.7"
  }
 },
 "nbformat": 4,
 "nbformat_minor": 5
}
