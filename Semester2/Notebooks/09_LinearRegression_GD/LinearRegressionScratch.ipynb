{
 "cells": [
  {
   "cell_type": "markdown",
   "id": "d3c94dcf-c3b3-4015-92b1-59836cee410a",
   "metadata": {},
   "source": [
    "# Single Variable (Univariate) Linear Regression"
   ]
  },
  {
   "cell_type": "markdown",
   "id": "bd03a7be-d861-48bb-9e06-5e86e001c3ae",
   "metadata": {},
   "source": [
    "Using the toy dataset loaded below, the goal is to write the linear regression algorithm with Gradient Descent from scratch ! This will help you familiarize yourselves with the essential steps of most machine learning algorithms."
   ]
  },
  {
   "cell_type": "markdown",
   "id": "e74dd827-39c2-40f7-95c9-bf74ca095b86",
   "metadata": {},
   "source": [
    "## The Data\n",
    "This is a toy dataset of 100 examples, where the lot area is in square meters and the sale price is in tens of thousands.  The sale prices have been divided by a factor of ten thousand to have features and labels on a similar scale."
   ]
  },
  {
   "cell_type": "code",
   "execution_count": 3,
   "id": "92cf68b2-b28e-466f-9779-0dae5aa12882",
   "metadata": {},
   "outputs": [
    {
     "data": {
      "text/html": [
       "<div>\n",
       "<style scoped>\n",
       "    .dataframe tbody tr th:only-of-type {\n",
       "        vertical-align: middle;\n",
       "    }\n",
       "\n",
       "    .dataframe tbody tr th {\n",
       "        vertical-align: top;\n",
       "    }\n",
       "\n",
       "    .dataframe thead th {\n",
       "        text-align: right;\n",
       "    }\n",
       "</style>\n",
       "<table border=\"1\" class=\"dataframe\">\n",
       "  <thead>\n",
       "    <tr style=\"text-align: right;\">\n",
       "      <th></th>\n",
       "      <th>LotArea</th>\n",
       "      <th>SalePrice</th>\n",
       "    </tr>\n",
       "  </thead>\n",
       "  <tbody>\n",
       "    <tr>\n",
       "      <th>0</th>\n",
       "      <td>32.502345</td>\n",
       "      <td>31.707006</td>\n",
       "    </tr>\n",
       "    <tr>\n",
       "      <th>1</th>\n",
       "      <td>53.426804</td>\n",
       "      <td>68.777596</td>\n",
       "    </tr>\n",
       "    <tr>\n",
       "      <th>2</th>\n",
       "      <td>61.530358</td>\n",
       "      <td>62.562382</td>\n",
       "    </tr>\n",
       "    <tr>\n",
       "      <th>3</th>\n",
       "      <td>47.475640</td>\n",
       "      <td>71.546632</td>\n",
       "    </tr>\n",
       "    <tr>\n",
       "      <th>4</th>\n",
       "      <td>59.813208</td>\n",
       "      <td>87.230925</td>\n",
       "    </tr>\n",
       "  </tbody>\n",
       "</table>\n",
       "</div>"
      ],
      "text/plain": [
       "     LotArea  SalePrice\n",
       "0  32.502345  31.707006\n",
       "1  53.426804  68.777596\n",
       "2  61.530358  62.562382\n",
       "3  47.475640  71.546632\n",
       "4  59.813208  87.230925"
      ]
     },
     "execution_count": 3,
     "metadata": {},
     "output_type": "execute_result"
    }
   ],
   "source": [
    "# Imports\n",
    "import numpy as np\n",
    "import pandas as pd\n",
    "import matplotlib.pyplot as plt\n",
    "\n",
    "# Preprocessing Input data\n",
    "data = pd.read_csv('data.csv', names=['LotArea', 'SalePrice'])\n",
    "data.head()"
   ]
  },
  {
   "cell_type": "code",
   "execution_count": 4,
   "id": "8e52173f-66c3-415d-be51-bbbf6064a46e",
   "metadata": {},
   "outputs": [
    {
     "data": {
      "image/png": "[encoded data removed]",
      "text/plain": [
       "<Figure size 432x288 with 1 Axes>"
      ]
     },
     "metadata": {
      "needs_background": "light"
     },
     "output_type": "display_data"
    }
   ],
   "source": [
    "X = data.iloc[:, 0] \n",
    "labels = data.iloc[:, 1]\n",
    "plt.scatter(X, labels)\n",
    "plt.show()"
   ]
  },
  {
   "cell_type": "markdown",
   "id": "087defb1-e357-4a6b-b111-346afa2eb32e",
   "metadata": {},
   "source": [
    "## The model"
   ]
  },
  {
   "cell_type": "markdown",
   "id": "d0cbb2e6-8694-4253-af93-adeb40fe659c",
   "metadata": {},
   "source": [
    "For single variable linear regression, our model is defined by the function:  \n",
    "$$h(x) = \\theta_0 + \\theta_1x$$"
   ]
  },
  {
   "cell_type": "markdown",
   "id": "f039293e-2a45-4679-a855-2b36d9ea64de",
   "metadata": {},
   "source": [
    "Write a function which returns an array of predictions, using as input :\n",
    "* an array of examples with a single feature\n",
    "* the parameters of the model."
   ]
  },
  {
   "cell_type": "code",
   "execution_count": 5,
   "id": "4accd0ae-2de1-4e59-b348-aa5bff7ab368",
   "metadata": {},
   "outputs": [],
   "source": [
    "def predict(X, theta0, theta1):\n",
    "    \n",
    "    # transcribe the formula above :\n",
    "    preds = None\n",
    "    \n",
    "    return preds"
   ]
  },
  {
   "cell_type": "code",
   "execution_count": 6,
   "id": "c190b280-ffcd-418a-9baa-08611e50c246",
   "metadata": {},
   "outputs": [],
   "source": [
    "# you should have an array of predictions\n",
    "predict(X, theta0=1, theta1=1)"
   ]
  },
  {
   "cell_type": "markdown",
   "id": "49fb0583-29a4-4379-b275-5e1810f42521",
   "metadata": {},
   "source": [
    "**Expected output for example 0 is 33.50**"
   ]
  },
  {
   "cell_type": "markdown",
   "id": "84585d22-4808-4c65-9351-8c1a436a93ac",
   "metadata": {},
   "source": [
    "## The Cost function"
   ]
  },
  {
   "cell_type": "markdown",
   "id": "4ce61442-4c03-442d-b1bd-6c1eb151aef7",
   "metadata": {},
   "source": [
    "The cost function allows you to evaluate how good your model fits the data.  In this case, we are going to use the MSE (Mean Squared Error) loss, defined as :\n",
    "$$ J(\\theta_0, \\theta_1) = \\frac{1}{2m}\\sum_{i=1}^m (h(x^i) - y^i)^2 $$ \n",
    "\n",
    "where *m* is the number of examples, so 100 in our case.\n",
    "\n",
    "This gives us the average error over our model's predictions.  Write a function which outputs this cost."
   ]
  },
  {
   "cell_type": "code",
   "execution_count": 7,
   "id": "c97eaaf0-c830-437a-90a1-fdd3b3000425",
   "metadata": {},
   "outputs": [],
   "source": [
    "def cost(preds, labels):\n",
    "    \"\"\"\n",
    "    Preds and labels are numpy arrays, so no need to use \"for\" loops !\n",
    "    \"\"\"\n",
    "    # length of the dataset\n",
    "    m = None\n",
    "    \n",
    "    # got hrough the formula step by step :\n",
    "    # predictions - labels => the array of differences\n",
    "    differences = None\n",
    "    \n",
    "    # Square the differences\n",
    "    diff_squared = None\n",
    "    \n",
    "    # Sum the squared differences and divide by 2m :\n",
    "    loss = None\n",
    "    \n",
    "    return loss"
   ]
  },
  {
   "cell_type": "code",
   "execution_count": 6,
   "id": "49b1f982-a55f-4702-aa82-8fcd20ae31e3",
   "metadata": {},
   "outputs": [],
   "source": [
    "# test your function\n",
    "cost(labels+1, labels)"
   ]
  },
  {
   "cell_type": "markdown",
   "id": "e74b2653-8d1c-4b1f-aa76-37885bdaf504",
   "metadata": {},
   "source": [
    "**Expected output is 0.5**"
   ]
  },
  {
   "cell_type": "markdown",
   "id": "26b1ec25-2f16-4b56-814d-8c24d4ddd140",
   "metadata": {},
   "source": [
    "## Gradient Descent"
   ]
  },
  {
   "cell_type": "markdown",
   "id": "3a807f77-938c-4bfd-a809-f67974b1fad5",
   "metadata": {},
   "source": [
    "Gradient Descent performs updates on the weights of the model to minimize the cost/loss (these terms can be used interchangeably).  \n",
    "Here is the formula for the update of each parameter in the model :\n",
    "$$ \\theta_0 = \\theta_0 - \\alpha  \\frac{1}{m} \\sum_{i=1}^{m}(h(x^i) - y^i) $$\n",
    "$$ \\theta_1 = \\theta_1 - \\alpha  \\frac{1}{m} \\sum_{i=1}^{m}(h(x^i) - y^i)x^i$$ "
   ]
  },
  {
   "cell_type": "markdown",
   "id": "41544ca5-e98c-4357-bf0a-545ea3115130",
   "metadata": {},
   "source": [
    "Where *alpha* is the `learning_rate` (the size of the update steps we want to take) and the term on the right is the formula for the partial derivative of the cost function with respect to each parameter.\n",
    "Write a function which performs these updates."
   ]
  },
  {
   "cell_type": "code",
   "execution_count": 9,
   "id": "9f568668-ee87-4a61-afa5-8de2a7808a83",
   "metadata": {},
   "outputs": [],
   "source": [
    "def gradient_descent(learning_rate, X, preds, labels, theta0, theta1):\n",
    "    \n",
    "    # using numpy again, write out the partial derivatives, the part of the formula after alpha step by step :\n",
    "    \n",
    "    # difference preds/labels\n",
    "    difference = None\n",
    "\n",
    "    # for theta 1, each difference in the array of differences needs to be multiplied by its example x :\n",
    "    difference_X = None\n",
    "    \n",
    "    # all that's left is applying the mean (sum/m) to get the partial derivatives of each parameter :\n",
    "    partial_theta0 = None\n",
    "    \n",
    "    partial_theta1 = None\n",
    "    \n",
    "    # update the parameters!\n",
    "    theta0 -= None\n",
    "    theta1 -= None\n",
    "    \n",
    "    return theta0, theta1"
   ]
  },
  {
   "cell_type": "markdown",
   "id": "071b3a48-010f-4517-955f-0248b33223f6",
   "metadata": {},
   "source": [
    "## Main Loop"
   ]
  },
  {
   "cell_type": "markdown",
   "id": "377e0267-786a-4408-bfcc-d758e0777be8",
   "metadata": {},
   "source": [
    "We can now go through the data and fit our model :"
   ]
  },
  {
   "cell_type": "code",
   "execution_count": 11,
   "id": "49f80008-93ba-4747-ab73-c6f5a119f492",
   "metadata": {},
   "outputs": [
    {
     "name": "stdout",
     "output_type": "stream",
     "text": [
      "epoch 0\n"
     ]
    },
    {
     "ename": "TypeError",
     "evalue": "'NoneType' object is not iterable",
     "output_type": "error",
     "traceback": [
      "\u001b[0;31m---------------------------------------------------------------------------\u001b[0m",
      "\u001b[0;31mTypeError\u001b[0m                                 Traceback (most recent call last)",
      "Input \u001b[0;32mIn [11]\u001b[0m, in \u001b[0;36m<module>\u001b[0;34m\u001b[0m\n\u001b[1;32m     26\u001b[0m \u001b[38;5;28mprint\u001b[39m(\u001b[38;5;124mf\u001b[39m\u001b[38;5;124m'\u001b[39m\u001b[38;5;124mepoch \u001b[39m\u001b[38;5;132;01m{\u001b[39;00mi\u001b[38;5;132;01m}\u001b[39;00m\u001b[38;5;124m'\u001b[39m)\n\u001b[1;32m     27\u001b[0m plt\u001b[38;5;241m.\u001b[39mscatter(X, labels)\n\u001b[0;32m---> 28\u001b[0m plt\u001b[38;5;241m.\u001b[39mplot([\u001b[38;5;28mmin\u001b[39m(X), \u001b[38;5;28mmax\u001b[39m(X)], [\u001b[38;5;28;43mmin\u001b[39;49m\u001b[43m(\u001b[49m\u001b[43mY_pred\u001b[49m\u001b[43m)\u001b[49m, \u001b[38;5;28mmax\u001b[39m(Y_pred)], color\u001b[38;5;241m=\u001b[39m\u001b[38;5;124m'\u001b[39m\u001b[38;5;124mred\u001b[39m\u001b[38;5;124m'\u001b[39m) \u001b[38;5;66;03m# predicted\u001b[39;00m\n\u001b[1;32m     29\u001b[0m plt\u001b[38;5;241m.\u001b[39mshow()\n\u001b[1;32m     32\u001b[0m \u001b[38;5;66;03m# compute the loss using the cost function\u001b[39;00m\n",
      "\u001b[0;31mTypeError\u001b[0m: 'NoneType' object is not iterable"
     ]
    },
    {
     "data": {
      "image/png": "[encoded data removed]",
      "text/plain": [
       "<Figure size 432x288 with 1 Axes>"
      ]
     },
     "metadata": {
      "needs_background": "light"
     },
     "output_type": "display_data"
    }
   ],
   "source": [
    "import random\n",
    "random.seed(42)\n",
    "\n",
    "# Choose the \"hyperparameters\" you want :\n",
    "# The learning rate, typically very low, between 1e-2 and 1e-6 depending on the task.  \n",
    "# 1e-4 is recommended to begin with in this case\n",
    "LR = 1e-4  \n",
    "# The number of passes over the dataset, ie. the number of times we update the weights.  These are called \"epochs\".\n",
    "EPOCHS = 100  \n",
    "\n",
    "m = len(X) # Number of elements in X\n",
    "\n",
    "\n",
    "# Initilize the cost/loss to a very high value\n",
    "prev_loss = 1e9\n",
    "# Initialize the parameters, setting them to random values between 0 and 1:\n",
    "theta0, theta1 = random.random(), random.random()\n",
    "\n",
    "\n",
    "# Loop\n",
    "for i in range(EPOCHS): \n",
    "       \n",
    "    # compute the model's predictions using the predict function\n",
    "    Y_pred = None\n",
    "    \n",
    "    # plot the model to have a visual intuition of the model's progress (uncomment if needed)\n",
    "    print(f'epoch {i}')\n",
    "    #plt.scatter(X, labels)\n",
    "    #plt.plot([min(X), max(X)], [min(Y_pred), max(Y_pred)], color='red') # predicted\n",
    "    #plt.show()\n",
    "    \n",
    "    \n",
    "    # compute the loss using the cost function\n",
    "    loss = None\n",
    "    print(f'Loss = {loss}')\n",
    "    \n",
    "    # To see if the model is improving, compare this loss to the previous loss.\n",
    "    # if the difference is smaller than 1e-2, then we can consider the model has found the global minimum \n",
    "    # and there is no need to continue updating the weights.\n",
    "    # This will also interrupt the training loop if the difference is a large negative number.\n",
    "    \n",
    "    # if previous_loss - loss is smaller than 1e-2 (0.01) : \n",
    "    if prev_loss - loss < 1e-2:\n",
    "        # break the for loop\n",
    "        break\n",
    "        \n",
    "        \n",
    "    # if the difference is significant, update the previous loss to be the current loss\n",
    "    prev_loss = None\n",
    "                     \n",
    "    \n",
    "    # and update the parameters using the gradient_descent function\n",
    "    theta0, theta1 = None\n",
    "\n",
    "print(f'{theta0=}, {theta1=}')"
   ]
  },
  {
   "cell_type": "markdown",
   "id": "75f608b1-e181-4641-8f78-6c2d6d8fcd24",
   "metadata": {},
   "source": [
    "**Expected values** for theta0 and theta1 for a learning rate of 1e-4 should be \n",
    "* theta0 => 0.66\n",
    "* theta1 => 1.46"
   ]
  },
  {
   "cell_type": "markdown",
   "id": "3d328454-e976-448a-9961-9fde3d4b8b6a",
   "metadata": {},
   "source": [
    "Play around with the learning rates: \n",
    "* 5e-4 : how many epochs till the loss stops changing ?\n",
    "* 1e-2 : what happens ?"
   ]
  },
  {
   "cell_type": "markdown",
   "id": "a1aa2698-6668-4161-b7ec-97d6f561a7f5",
   "metadata": {},
   "source": [
    "# Multivariate Linear Regression (optional)"
   ]
  },
  {
   "cell_type": "code",
   "execution_count": 15,
   "id": "2f1ec952-c68a-4299-a7a7-745698e86793",
   "metadata": {
    "tags": []
   },
   "outputs": [],
   "source": [
    "# A quick toy implementation\n",
    "\n",
    "X = np.random.randn(5, 500) # 5 features, 500 examples\n",
    "y = 3 * X[0, :] + np.random.randn(1, 500) * 0.1 # to create the labels, take the first row of X and add noise => *3, add random numbers*0.1\n",
    "\n",
    "\n",
    "X1 = np.ones((1, X.shape[1]))\n",
    "X = np.append(X, X1, axis=0) # add \"dummy\" features as a row of ones\n",
    "#print(X)"
   ]
  },
  {
   "cell_type": "code",
   "execution_count": 13,
   "id": "1dbf2af3-c5bf-404e-88d9-f28f0c983839",
   "metadata": {},
   "outputs": [],
   "source": [
    "# m => number of examples\n",
    "# n => number of features\n",
    "m = X.shape[1]\n",
    "n = X.shape[0]\n",
    "\n",
    "# initialize parameter/weight vector\n",
    "theta = np.random.randn(n, 1)"
   ]
  },
  {
   "cell_type": "code",
   "execution_count": 14,
   "id": "ef9a6a94-8d22-4581-a665-492f96ebd8a8",
   "metadata": {},
   "outputs": [
    {
     "name": "stdout",
     "output_type": "stream",
     "text": [
      "Loss is 2.2671847842096904 at epoch 0\n",
      "Loss is 0.0047688298679454824 at epoch 2000\n",
      "Loss is 0.004768829867945455 at epoch 4000\n"
     ]
    }
   ],
   "source": [
    "lr = 1e-2\n",
    "epochs = 5000\n",
    "\n",
    "for epoch in range(epochs+1):\n",
    "    preds = np.dot(theta.reshape(1,-1), X)\n",
    "    loss = np.mean((preds - y)**2) / 2\n",
    "    #print(f'Loss : {loss}')\n",
    "    if epoch % 2000 == 0: \n",
    "        print(f'Loss is {loss} at epoch {epoch}')\n",
    "    \n",
    "    dL_dtheta = 1/m * np.dot(X, (preds-y).T)\n",
    "    theta -= lr * dL_dtheta\n",
    " "
   ]
  }
 ],
 "metadata": {
  "kernelspec": {
   "display_name": "Python 3 (ipykernel)",
   "language": "python",
   "name": "python3"
  },
  "language_info": {
   "codemirror_mode": {
    "name": "ipython",
    "version": 3
   },
   "file_extension": ".py",
   "mimetype": "text/x-python",
   "name": "python",
   "nbconvert_exporter": "python",
   "pygments_lexer": "ipython3",
   "version": "3.9.7"
  }
 },
 "nbformat": 4,
 "nbformat_minor": 5
}
