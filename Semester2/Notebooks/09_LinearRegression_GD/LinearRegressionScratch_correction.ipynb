{
 "cells": [
  {
   "cell_type": "markdown",
   "id": "d3c94dcf-c3b3-4015-92b1-59836cee410a",
   "metadata": {},
   "source": [
    "# Single Variable (Univariate) Linear Regression"
   ]
  },
  {
   "cell_type": "markdown",
   "id": "bd03a7be-d861-48bb-9e06-5e86e001c3ae",
   "metadata": {},
   "source": [
    "Using the toy dataset loaded below, the goal is to write the linear regression algorithm with Gradient Descent from scratch ! This will help you familiarize yourselves with the essential steps of most machine learning algorithms."
   ]
  },
  {
   "cell_type": "markdown",
   "id": "e74dd827-39c2-40f7-95c9-bf74ca095b86",
   "metadata": {},
   "source": [
    "## The Data\n",
    "This is a toy dataset of 100 examples, where the lot area is in m2 and the sale price is in thousands.  The sale prices have been divided by a factor of 1000 to have features and labels on a similar scale."
   ]
  },
  {
   "cell_type": "code",
   "execution_count": 1,
   "id": "92cf68b2-b28e-466f-9779-0dae5aa12882",
   "metadata": {},
   "outputs": [
    {
     "data": {
      "text/html": [
       "<div>\n",
       "<style scoped>\n",
       "    .dataframe tbody tr th:only-of-type {\n",
       "        vertical-align: middle;\n",
       "    }\n",
       "\n",
       "    .dataframe tbody tr th {\n",
       "        vertical-align: top;\n",
       "    }\n",
       "\n",
       "    .dataframe thead th {\n",
       "        text-align: right;\n",
       "    }\n",
       "</style>\n",
       "<table border=\"1\" class=\"dataframe\">\n",
       "  <thead>\n",
       "    <tr style=\"text-align: right;\">\n",
       "      <th></th>\n",
       "      <th>LotArea</th>\n",
       "      <th>SalePrice</th>\n",
       "    </tr>\n",
       "  </thead>\n",
       "  <tbody>\n",
       "    <tr>\n",
       "      <th>0</th>\n",
       "      <td>32.502345</td>\n",
       "      <td>31.707006</td>\n",
       "    </tr>\n",
       "    <tr>\n",
       "      <th>1</th>\n",
       "      <td>53.426804</td>\n",
       "      <td>68.777596</td>\n",
       "    </tr>\n",
       "    <tr>\n",
       "      <th>2</th>\n",
       "      <td>61.530358</td>\n",
       "      <td>62.562382</td>\n",
       "    </tr>\n",
       "    <tr>\n",
       "      <th>3</th>\n",
       "      <td>47.475640</td>\n",
       "      <td>71.546632</td>\n",
       "    </tr>\n",
       "    <tr>\n",
       "      <th>4</th>\n",
       "      <td>59.813208</td>\n",
       "      <td>87.230925</td>\n",
       "    </tr>\n",
       "  </tbody>\n",
       "</table>\n",
       "</div>"
      ],
      "text/plain": [
       "     LotArea  SalePrice\n",
       "0  32.502345  31.707006\n",
       "1  53.426804  68.777596\n",
       "2  61.530358  62.562382\n",
       "3  47.475640  71.546632\n",
       "4  59.813208  87.230925"
      ]
     },
     "execution_count": 1,
     "metadata": {},
     "output_type": "execute_result"
    }
   ],
   "source": [
    "# Imports\n",
    "import numpy as np\n",
    "import pandas as pd\n",
    "import matplotlib.pyplot as plt\n",
    "\n",
    "# Preprocessing Input data\n",
    "data = pd.read_csv('data.csv', names=['LotArea', 'SalePrice'])\n",
    "data.head()"
   ]
  },
  {
   "cell_type": "code",
   "execution_count": 4,
   "id": "efa31bb1-449d-4e97-a4f2-a66f355ad15a",
   "metadata": {},
   "outputs": [
    {
     "data": {
      "text/plain": [
       "array([ 4,  7, 10])"
      ]
     },
     "execution_count": 4,
     "metadata": {},
     "output_type": "execute_result"
    }
   ],
   "source": [
    "a = np.array([1,2,3])\n",
    "1 + 3*a"
   ]
  },
  {
   "cell_type": "code",
   "execution_count": 2,
   "id": "8e52173f-66c3-415d-be51-bbbf6064a46e",
   "metadata": {},
   "outputs": [
    {
     "data": {
      "image/png": "[encoded data removed]",
      "text/plain": [
       "<Figure size 432x288 with 1 Axes>"
      ]
     },
     "metadata": {
      "needs_background": "light"
     },
     "output_type": "display_data"
    }
   ],
   "source": [
    "X = data.iloc[:, 0] \n",
    "labels = data.iloc[:, 1]\n",
    "plt.scatter(X, labels)\n",
    "plt.show()"
   ]
  },
  {
   "cell_type": "markdown",
   "id": "087defb1-e357-4a6b-b111-346afa2eb32e",
   "metadata": {},
   "source": [
    "## The model"
   ]
  },
  {
   "cell_type": "markdown",
   "id": "d0cbb2e6-8694-4253-af93-adeb40fe659c",
   "metadata": {},
   "source": [
    "For single variable linear regression, our model is defined by the function:  \n",
    "$$h(x) = \\theta_0 + \\theta_1x$$"
   ]
  },
  {
   "cell_type": "markdown",
   "id": "f039293e-2a45-4679-a855-2b36d9ea64de",
   "metadata": {},
   "source": [
    "Write a function which returns a numpy array of predictions, using as input an array of examples with a single feature, and the parameters of the model."
   ]
  },
  {
   "cell_type": "code",
   "execution_count": null,
   "id": "04896eb3-802b-4f26-ab29-2b206e99bea0",
   "metadata": {},
   "outputs": [],
   "source": []
  },
  {
   "cell_type": "code",
   "execution_count": 3,
   "id": "4accd0ae-2de1-4e59-b348-aa5bff7ab368",
   "metadata": {},
   "outputs": [],
   "source": [
    "def predict(X, theta0, theta1):\n",
    "    \n",
    "    # transcribe the formula above, easy enough :\n",
    "    preds = theta0 + theta1 * X\n",
    "    \n",
    "    return preds"
   ]
  },
  {
   "cell_type": "code",
   "execution_count": 4,
   "id": "c190b280-ffcd-418a-9baa-08611e50c246",
   "metadata": {},
   "outputs": [
    {
     "data": {
      "text/plain": [
       "0     33.502345\n",
       "1     54.426804\n",
       "2     62.530358\n",
       "3     48.475640\n",
       "4     60.813208\n",
       "        ...    \n",
       "95    51.030174\n",
       "96    50.239765\n",
       "97    51.039576\n",
       "98    49.149859\n",
       "99    26.128485\n",
       "Name: LotArea, Length: 100, dtype: float64"
      ]
     },
     "execution_count": 4,
     "metadata": {},
     "output_type": "execute_result"
    }
   ],
   "source": [
    "predict(X, theta0=1, theta1=1)"
   ]
  },
  {
   "cell_type": "markdown",
   "id": "49fb0583-29a4-4379-b275-5e1810f42521",
   "metadata": {},
   "source": [
    "**Expected output for the first example is 54.43**"
   ]
  },
  {
   "cell_type": "markdown",
   "id": "84585d22-4808-4c65-9351-8c1a436a93ac",
   "metadata": {},
   "source": [
    "## The Cost function"
   ]
  },
  {
   "cell_type": "markdown",
   "id": "4ce61442-4c03-442d-b1bd-6c1eb151aef7",
   "metadata": {},
   "source": [
    "The cost function allows you to evaluate how good your model fits the data.  In this case, we are going to use the MSE (Mean Squared Error) loss, defined as :\n",
    "$$ J(\\theta_0, \\theta_1) = \\frac{1}{2m}\\sum_{i=1}^m (h(x^i) - y^i)^2 $$ \n",
    "\n",
    "where *m* is the number of examples, so 100 in our case.\n",
    "\n",
    "This gives us the average error over our model's predictions.  Write a function which outputs the cost."
   ]
  },
  {
   "cell_type": "code",
   "execution_count": 4,
   "id": "c97eaaf0-c830-437a-90a1-fdd3b3000425",
   "metadata": {},
   "outputs": [],
   "source": [
    "def cost(preds, labels):\n",
    "    \"\"\"\n",
    "    Preds and labels are numpy arrays, so no need to use \"for\" loops !\n",
    "    Try doing some of the operations on paper with numpy arrays of only 2-3 examples to make things easier.\n",
    "    \"\"\"\n",
    "    # length of the dataset\n",
    "    m = len(labels)\n",
    "    # write out the formula above \n",
    "    loss = 1/(2 * m) * np.sum((preds - labels)**2)\n",
    "    \n",
    "    return loss"
   ]
  },
  {
   "cell_type": "code",
   "execution_count": 6,
   "id": "c5a6e13f-e3a0-4419-a13c-4728d5f6da69",
   "metadata": {},
   "outputs": [
    {
     "data": {
      "text/plain": [
       "0.5"
      ]
     },
     "execution_count": 6,
     "metadata": {},
     "output_type": "execute_result"
    }
   ],
   "source": [
    "cost(labels+1, labels)"
   ]
  },
  {
   "cell_type": "markdown",
   "id": "26b1ec25-2f16-4b56-814d-8c24d4ddd140",
   "metadata": {},
   "source": [
    "## Gradient Descent"
   ]
  },
  {
   "cell_type": "markdown",
   "id": "3a807f77-938c-4bfd-a809-f67974b1fad5",
   "metadata": {},
   "source": [
    "Gradient Descent performs updates on the weights of the model, in order to minimize the cost/loss (these can be used interchangeably).  \n",
    "Here is the formula for the update of each parameter in the model :\n",
    "$$ \\theta_0 = \\theta_0 - \\alpha  \\frac{1}{m} \\sum_{i=1}^{m}(h(x^i) - y^i) $$\n",
    "$$ \\theta_1 = \\theta_1 - \\alpha  \\frac{1}{m} \\sum_{i=1}^{m}(h(x^i) - y^i)x^i$$ "
   ]
  },
  {
   "cell_type": "markdown",
   "id": "41544ca5-e98c-4357-bf0a-545ea3115130",
   "metadata": {},
   "source": [
    "Where *alpha* is the learning_rate (the size of the update steps we want to take) and the term on the right is the formula for the partial derivative of the cost function, with respect to each parameter.\n",
    "Write a function which performs these updates."
   ]
  },
  {
   "cell_type": "code",
   "execution_count": 5,
   "id": "9f568668-ee87-4a61-afa5-8de2a7808a83",
   "metadata": {},
   "outputs": [],
   "source": [
    "def gradient_descent(alpha, X, preds, labels, theta0, theta1):\n",
    "    \n",
    "    # write out the part of the formula which comes right after alpha, the partial derivatives :\n",
    "    partial_theta0 = np.mean(preds-labels)\n",
    "    \n",
    "    partial_theta1 = np.mean((preds-labels)*X)\n",
    "    \n",
    "    \n",
    "    # update the parameters!\n",
    "    theta0 -= alpha * partial_theta0\n",
    "    theta1 -= alpha * partial_theta1\n",
    "    \n",
    "    return theta0, theta1"
   ]
  },
  {
   "cell_type": "markdown",
   "id": "071b3a48-010f-4517-955f-0248b33223f6",
   "metadata": {},
   "source": [
    "## Main Loop"
   ]
  },
  {
   "cell_type": "markdown",
   "id": "377e0267-786a-4408-bfcc-d758e0777be8",
   "metadata": {},
   "source": [
    "We can now go through the data and fit our model :"
   ]
  },
  {
   "cell_type": "code",
   "execution_count": 15,
   "id": "49f80008-93ba-4747-ab73-c6f5a119f492",
   "metadata": {},
   "outputs": [
    {
     "name": "stdout",
     "output_type": "stream",
     "text": [
      "epoch 0\n"
     ]
    },
    {
     "data": {
      "image/png": "[encoded data removed]",
      "text/plain": [
       "<Figure size 432x288 with 1 Axes>"
      ]
     },
     "metadata": {
      "needs_background": "light"
     },
     "output_type": "display_data"
    },
    {
     "name": "stdout",
     "output_type": "stream",
     "text": [
      "Loss = 2645.6382499703377\n",
      "epoch 1\n"
     ]
    },
    {
     "data": {
      "image/png": "[encoded data removed]",
      "text/plain": [
       "<Figure size 432x288 with 1 Axes>"
      ]
     },
     "metadata": {
      "needs_background": "light"
     },
     "output_type": "display_data"
    },
    {
     "name": "stdout",
     "output_type": "stream",
     "text": [
      "Loss = 1481584.6015216778\n",
      "theta0=1.3481381850661416, theta1=35.94246466209976\n"
     ]
    }
   ],
   "source": [
    "import random\n",
    "random.seed(42)\n",
    "\n",
    "# Choose the \"hyperparameters\" you want :\n",
    "# The learning rate, typically very low, between 1e-2 and 1e-6 depending on the task.  \n",
    "# 1e-4 is recommended to begin with in this case\n",
    "lr = 1e-2\n",
    "# The number of passes over the dataset, ie. the number of times we update the weights.  These are called \"epochs\".\n",
    "epochs = 100 \n",
    "\n",
    "m = len(X) # Number of elements in X\n",
    "\n",
    "\n",
    "# Initilize the cost/loss to a very high value\n",
    "prev_loss = 1e9\n",
    "# Initialize the parameters, setting them to random values between 0 and 1:\n",
    "theta0, theta1 = random.random(), random.random()\n",
    "\n",
    "\n",
    "# Loop\n",
    "for i in range(epochs): \n",
    "       \n",
    "    # compute the model's predictions\n",
    "    Y_pred = predict(X, theta0, theta1)\n",
    "    \n",
    "    # plot the model to have a visual intuition of the model's progress\n",
    "    print(f'epoch {i}')\n",
    "    plt.scatter(X, labels)\n",
    "    plt.plot([min(X), max(X)], [min(Y_pred), max(Y_pred)], color='red') # predicted\n",
    "    plt.show()\n",
    "    \n",
    "    \n",
    "    # compute the loss\n",
    "    loss = cost(Y_pred, labels)\n",
    "    print(f'Loss = {loss}')\n",
    "    \n",
    "    # To see if the model is improving, compare this loss to the previous loss.\n",
    "    # if the difference is smaller than 1e-2, then we can consider the model has found the global minimum \n",
    "    # and there is no need to continue updating the weights.\n",
    "    if prev_loss - loss < 1e-2:\n",
    "        break\n",
    "        \n",
    "    # if the difference is significant, update the previous loss\n",
    "    prev_loss = loss\n",
    "                     \n",
    "    # and update the parameters  \n",
    "    theta0, theta1 = gradient_descent(lr, X, Y_pred, labels, theta0, theta1)\n",
    "\n",
    "print(f'{theta0=}, {theta1=}')"
   ]
  },
  {
   "cell_type": "markdown",
   "id": "75f608b1-e181-4641-8f78-6c2d6d8fcd24",
   "metadata": {},
   "source": [
    "**Expected values** for theta0 and theta1 should be \n",
    "* theta0 => 0.66\n",
    "* theta1 => 1.46"
   ]
  },
  {
   "cell_type": "markdown",
   "id": "3d328454-e976-448a-9961-9fde3d4b8b6a",
   "metadata": {},
   "source": [
    "Play around with the learning rates !! Set 100 epochs and comment out the condition with the break statement beforehand and then try:\n",
    "* 5e-4 : how any epochs til the loss stops changing ?\n",
    "* 1e-2 : what's going on with the model ?"
   ]
  },
  {
   "cell_type": "markdown",
   "id": "a1aa2698-6668-4161-b7ec-97d6f561a7f5",
   "metadata": {},
   "source": [
    "# Multivariate Linear Regression"
   ]
  },
  {
   "cell_type": "code",
   "execution_count": 108,
   "id": "5f16e515-0b2e-4ce9-a26c-84041368e448",
   "metadata": {},
   "outputs": [
    {
     "name": "stdout",
     "output_type": "stream",
     "text": [
      "Loss is 8.600939561452826 at epoch 0\n",
      "Loss is 0.009791333001155226 at epoch 2000\n",
      "Loss is 0.009791333001155226 at epoch 4000\n",
      "Loss is 0.009791333001155226 at epoch 6000\n",
      "Loss is 0.009791333001155226 at epoch 8000\n",
      "Loss is 0.009791333001155226 at epoch 10000\n"
     ]
    }
   ],
   "source": [
    "import numpy as np\n",
    "\n",
    "# m: # of training examples\n",
    "# n: # of features\n",
    "# y is in R^(1 * m)\n",
    "# X is in R^(n * m)\n",
    "# w is in R^(n * 1) \n",
    "\n",
    "class LinearRegression():\n",
    "    def __init__(self):\n",
    "        self.learning_rate = 0.01\n",
    "        self.total_iterations = 10000\n",
    "    \n",
    "    def yhat(self, X, w):\n",
    "        # yhat = w1x1 + w2x2 + w3x3 ...\n",
    "        # w1 will be the bias and x1 will = 1 for every example\n",
    "        return np.dot(w.T, X)\n",
    "    \n",
    "    def loss(self, yhat, y):\n",
    "        L = np.mean(np.power(yhat-y, 2))\n",
    "        return L\n",
    "    \n",
    "    def gradient_descent(self, w, X, y, yhat):\n",
    "        # derivative dL/dw is 2/m * X dot (yhat - y)T\n",
    "        dLdw = 2/self.m * np.dot(X, (yhat-y).T)\n",
    "        w -= self.learning_rate * dLdw\n",
    "        return w\n",
    "\n",
    "    def main(self, X, y):\n",
    "        X1 = np.ones((1, X.shape[1])) # 1 * m matrix of ones\n",
    "        X = np.append(X, X1, axis=0) # add as a row\n",
    "\n",
    "        self.m = X.shape[1]\n",
    "        self.n = X.shape[0]\n",
    "        w = np.zeros((self.n, 1))\n",
    "\n",
    "        for epoch in range(self.total_iterations+1):\n",
    "            yhat = self.yhat(X, w)\n",
    "            if epoch % 2000 == 0: \n",
    "                print(f'Loss is {self.loss(yhat, y)} at epoch {epoch}')\n",
    "            w = self.gradient_descent(w, X, y, yhat)\n",
    "        \n",
    "        return w\n",
    "\n",
    "    \n",
    "\n",
    "\n",
    "\n",
    "if __name__ == '__main__':\n",
    "    X = np.random.randn(5, 500)\n",
    "    y = 3 * X[0, :] + np.random.randn(1, 500) * 0.1 # added noise \n",
    "    regr = LinearRegression()\n",
    "    w = regr.main(X, y) \n",
    "\n"
   ]
  },
  {
   "cell_type": "code",
   "execution_count": 115,
   "id": "2f1ec952-c68a-4299-a7a7-745698e86793",
   "metadata": {
    "tags": []
   },
   "outputs": [],
   "source": [
    "# Create a toy dataset\n",
    "\n",
    "X = np.random.randn(5, 500) # 5 features, 500 examples\n",
    "y = 3 * X[0, :] + np.random.randn(1, 500) * 0.1 # to vreate the labels, take the first row of X and add noise => *3, add random numbers*0.1\n",
    "\n",
    "\n",
    "X1 = np.ones((1, X.shape[1]))\n",
    "X = np.append(X, X1, axis=0) # add \"dummy\" features as a row of ones\n",
    "#print(X)"
   ]
  },
  {
   "cell_type": "code",
   "execution_count": 128,
   "id": "1dbf2af3-c5bf-404e-88d9-f28f0c983839",
   "metadata": {},
   "outputs": [],
   "source": [
    "# m => number of examples\n",
    "# n => number of features\n",
    "m = X.shape[1]\n",
    "n = X.shape[0]\n",
    "\n",
    "# initialize parameter/weight vector\n",
    "theta = np.random.randn(n, 1)"
   ]
  },
  {
   "cell_type": "code",
   "execution_count": 129,
   "id": "ef9a6a94-8d22-4581-a665-492f96ebd8a8",
   "metadata": {},
   "outputs": [
    {
     "name": "stdout",
     "output_type": "stream",
     "text": [
      "Loss is 10.061233650744652 at epoch 0\n",
      "Loss is 0.005062600483811398 at epoch 2000\n",
      "Loss is 0.0050626004838113465 at epoch 4000\n",
      "Loss is 0.0050626004838113465 at epoch 6000\n",
      "Loss is 0.0050626004838113465 at epoch 8000\n",
      "Loss is 0.0050626004838113465 at epoch 10000\n"
     ]
    }
   ],
   "source": [
    "lr = 1e-2\n",
    "epochs = 10000\n",
    "\n",
    "for epoch in range(epochs+1):\n",
    "    preds = np.dot(theta.T, X)\n",
    "    loss = np.mean((preds - y)**2) / 2\n",
    "    #print(f'Loss : {loss}')\n",
    "    if epoch % 2000 == 0: \n",
    "        print(f'Loss is {loss} at epoch {epoch}')\n",
    "    \n",
    "    dL_dtheta = 1/m * np.dot(X, (preds-y).T)\n",
    "    theta -= lr * dL_dtheta\n",
    " "
   ]
  }
 ],
 "metadata": {
  "kernelspec": {
   "display_name": "Python 3 (ipykernel)",
   "language": "python",
   "name": "python3"
  },
  "language_info": {
   "codemirror_mode": {
    "name": "ipython",
    "version": 3
   },
   "file_extension": ".py",
   "mimetype": "text/x-python",
   "name": "python",
   "nbconvert_exporter": "python",
   "pygments_lexer": "ipython3",
   "version": "3.9.7"
  }
 },
 "nbformat": 4,
 "nbformat_minor": 5
}
