{
 "cells": [
  {
   "cell_type": "markdown",
   "id": "6e2d923c-30c9-40bd-a15b-2cf72d3cf305",
   "metadata": {},
   "source": [
    "Notebook in very large part from Sebastian Raschka's STAT 451 class. See his [github repo](https://github.com/rasbt/stat451-machine-learning-fs20) and [course website](http://pages.stat.wisc.edu/~sraschka/teaching/stat451-fs2020/)"
   ]
  },
  {
   "cell_type": "markdown",
   "id": "09cebd9e-be5e-4da1-a825-619a5ba14406",
   "metadata": {
    "tags": []
   },
   "source": [
    "---\n",
    "\n",
    "### 1. NumPy Basics\n",
    "\n",
    "---"
   ]
  },
  {
   "cell_type": "markdown",
   "id": "c4924985-bf2c-4bdc-bdbe-cb17d1c98b4d",
   "metadata": {},
   "source": [
    "---\n",
    "\n",
    "NumPy is the base of the scientific Python computing ecosystem\n",
    "\n",
    "<img src=\"images/numpy-intro/numpy-nature-1.png\" alt=\"Drawing\" style=\"width: 600px;\"/>\n",
    "\n",
    "Image Source:  Harris, C.R., Millman, K.J., van der Walt, S.J., Gommers, R., Virtanen, P., Cournapeau, D., Wieser, E., Taylor, J., Berg, S., Smith, N.J. and Kern, R., 2020 [Array Programming with NumPy](https://www.nature.com/articles/s41586-020-2649-2). Nature 585, 357–362 (2020). \n",
    "\n",
    "---"
   ]
  },
  {
   "cell_type": "markdown",
   "id": "b13c0fbc-c824-4ddb-8c06-229480e3814a",
   "metadata": {},
   "source": [
    "### Motivation: NumPy is fast!"
   ]
  },
  {
   "cell_type": "markdown",
   "id": "5d6b7f65-f9bb-4513-aac0-60d6efbf161c",
   "metadata": {},
   "source": [
    "To provide you with some motivation why learning about and using NumPy is useful, take a look at the speed comparison computing a vector dot product in Python (using lists) versus NumPy (the details will become clear later). As we will see, numpy also makes linear algebra operations more readable vs. regular python."
   ]
  },
  {
   "cell_type": "markdown",
   "id": "684a3bd3-c330-46ec-bb0c-300c3bebd6c9",
   "metadata": {},
   "source": [
    "$$\n",
    "z = \\mathbf{x}^\\top \\mathbf{w} = \\sum_i x_i w_i = x_1 \\times w_1 + x_2 \\times w_2 + ... + x_n \\times w_n\n",
    "$$"
   ]
  },
  {
   "cell_type": "code",
   "execution_count": 5,
   "id": "03dd6162-3a2e-480b-b6a1-477aeed06490",
   "metadata": {},
   "outputs": [],
   "source": [
    "# TODO\n",
    "# Implement a function that outputs the dot product between x and w using a for loop :\n",
    "def loop_approach(x,w) :\n",
    "    ..."
   ]
  },
  {
   "cell_type": "code",
   "execution_count": 4,
   "id": "44835e8c-57b5-4e23-9226-c1a29e5baf42",
   "metadata": {},
   "outputs": [
    {
     "name": "stdout",
     "output_type": "stream",
     "text": [
      "174 µs ± 9.41 µs per loop (mean ± std. dev. of 7 runs, 10,000 loops each)\n"
     ]
    }
   ],
   "source": [
    "big_vectorA = list(range(1000))\n",
    "big_vectorB = list(range(1000))\n",
    "\n",
    "%timeit loop_approach(big_vectorA,big_vectorB)"
   ]
  },
  {
   "cell_type": "code",
   "execution_count": 2,
   "id": "90a420d6-a026-482b-846a-2cb872b5d43d",
   "metadata": {},
   "outputs": [
    {
     "name": "stdout",
     "output_type": "stream",
     "text": [
      "32.0\n"
     ]
    }
   ],
   "source": [
    "import numpy as np\n",
    "\n",
    "def numpy_dotproduct_approach(x, w):\n",
    "    return x.dot(w)\n",
    "\n",
    "a = np.array([1., 2., 3.])\n",
    "b = np.array([4., 5., 6.])\n",
    "\n",
    "print(numpy_dotproduct_approach(a, b))"
   ]
  },
  {
   "cell_type": "code",
   "execution_count": 8,
   "id": "0f4c7325-01ab-4d18-b336-1db550bc4ffa",
   "metadata": {},
   "outputs": [
    {
     "name": "stdout",
     "output_type": "stream",
     "text": [
      "2.13 µs ± 57.1 ns per loop (mean ± std. dev. of 7 runs, 1,000,000 loops each)\n"
     ]
    }
   ],
   "source": [
    "large_a = np.arange(1000)\n",
    "large_b = np.arange(1000)\n",
    "\n",
    "%timeit numpy_dotproduct_approach(large_a, large_b)"
   ]
  },
  {
   "cell_type": "code",
   "execution_count": null,
   "id": "270340e6",
   "metadata": {},
   "outputs": [],
   "source": [
    "# what's the speed ratio ?"
   ]
  },
  {
   "cell_type": "markdown",
   "id": "f4077534-0e98-4bb1-872f-9886925072b1",
   "metadata": {},
   "source": [
    "### N-dimensional Arrays"
   ]
  },
  {
   "cell_type": "markdown",
   "id": "227a3167-078b-4743-9b82-e0d5b05522a4",
   "metadata": {},
   "source": [
    "* we can think of a one-dimensional NumPy array as a data structure to represent a vector of elements -- you may think of it as a fixed-size Python list where all elements share the same type. \n",
    "* Similarly, we can think of a two-dimensional array as a data structure to represent a matrix or a Python list of lists."
   ]
  },
  {
   "cell_type": "code",
   "execution_count": 6,
   "id": "c2cc168a-014a-497a-bb8d-46735bff2526",
   "metadata": {},
   "outputs": [
    {
     "data": {
      "text/plain": [
       "array([[1, 2, 3],\n",
       "       [4, 5, 6]])"
      ]
     },
     "execution_count": 6,
     "metadata": {},
     "output_type": "execute_result"
    }
   ],
   "source": [
    "import numpy as np\n",
    "\n",
    "lst = [[1, 2, 3], [4, 5, 6]]\n",
    "ary2d = np.array(lst)\n",
    "ary2d"
   ]
  },
  {
   "cell_type": "markdown",
   "id": "88da48e6-9ba6-408a-b61c-1d02e4666e1c",
   "metadata": {},
   "source": [
    "<img src=\"images/numpy-intro/array_1.png\" alt=\"Drawing\" style=\"width: 300px;\"/>"
   ]
  },
  {
   "cell_type": "markdown",
   "id": "afc3460f-72c1-4f65-a6d0-f828759d0785",
   "metadata": {},
   "source": [
    "The `shape` is always a tuple; in the code example above, the two-dimensional object has two *rows* and *three* columns, `(2, 3)`, if we think of it as a matrix representation."
   ]
  },
  {
   "cell_type": "code",
   "execution_count": 9,
   "id": "3b5bb428-5fd9-41fa-bca5-ba3f6f8b4136",
   "metadata": {},
   "outputs": [
    {
     "data": {
      "text/plain": [
       "(2, 3)"
      ]
     },
     "execution_count": 9,
     "metadata": {},
     "output_type": "execute_result"
    }
   ],
   "source": [
    "ary2d.shape"
   ]
  },
  {
   "cell_type": "markdown",
   "id": "4dc2bada-bd37-4b49-bd94-62e957eb8600",
   "metadata": {},
   "source": [
    "To return the number of elements in an array, we can use the `size` attribute, as shown below:"
   ]
  },
  {
   "cell_type": "code",
   "execution_count": 10,
   "id": "092f1e90-c0de-423c-918e-538b651da73e",
   "metadata": {
    "tags": []
   },
   "outputs": [
    {
     "data": {
      "text/plain": [
       "6"
      ]
     },
     "execution_count": 10,
     "metadata": {},
     "output_type": "execute_result"
    }
   ],
   "source": [
    "ary2d.size"
   ]
  },
  {
   "cell_type": "markdown",
   "id": "87945a6f-94b6-4262-b603-0a0f4f6a8478",
   "metadata": {},
   "source": [
    "---\n",
    "\n",
    "### 2. NumPy Array Construction and Indexing\n",
    "\n",
    "---"
   ]
  },
  {
   "cell_type": "code",
   "execution_count": 8,
   "id": "9f17e87d-e1b5-4dff-85a0-8dbb355fed02",
   "metadata": {},
   "outputs": [
    {
     "data": {
      "text/plain": [
       "\u001b[0;31mSignature:\u001b[0m \u001b[0mnp\u001b[0m\u001b[0;34m.\u001b[0m\u001b[0mones\u001b[0m\u001b[0;34m(\u001b[0m\u001b[0mshape\u001b[0m\u001b[0;34m,\u001b[0m \u001b[0mdtype\u001b[0m\u001b[0;34m=\u001b[0m\u001b[0;32mNone\u001b[0m\u001b[0;34m,\u001b[0m \u001b[0morder\u001b[0m\u001b[0;34m=\u001b[0m\u001b[0;34m'C'\u001b[0m\u001b[0;34m,\u001b[0m \u001b[0;34m*\u001b[0m\u001b[0;34m,\u001b[0m \u001b[0mlike\u001b[0m\u001b[0;34m=\u001b[0m\u001b[0;32mNone\u001b[0m\u001b[0;34m)\u001b[0m\u001b[0;34m\u001b[0m\u001b[0;34m\u001b[0m\u001b[0m\n",
       "\u001b[0;31mDocstring:\u001b[0m\n",
       "Return a new array of given shape and type, filled with ones.\n",
       "\n",
       "Parameters\n",
       "----------\n",
       "shape : int or sequence of ints\n",
       "    Shape of the new array, e.g., ``(2, 3)`` or ``2``.\n",
       "dtype : data-type, optional\n",
       "    The desired data-type for the array, e.g., `numpy.int8`.  Default is\n",
       "    `numpy.float64`.\n",
       "order : {'C', 'F'}, optional, default: C\n",
       "    Whether to store multi-dimensional data in row-major\n",
       "    (C-style) or column-major (Fortran-style) order in\n",
       "    memory.\n",
       "like : array_like\n",
       "    Reference object to allow the creation of arrays which are not\n",
       "    NumPy arrays. If an array-like passed in as ``like`` supports\n",
       "    the ``__array_function__`` protocol, the result will be defined\n",
       "    by it. In this case, it ensures the creation of an array object\n",
       "    compatible with that passed in via this argument.\n",
       "\n",
       "    .. versionadded:: 1.20.0\n",
       "\n",
       "Returns\n",
       "-------\n",
       "out : ndarray\n",
       "    Array of ones with the given shape, dtype, and order.\n",
       "\n",
       "See Also\n",
       "--------\n",
       "ones_like : Return an array of ones with shape and type of input.\n",
       "empty : Return a new uninitialized array.\n",
       "zeros : Return a new array setting values to zero.\n",
       "full : Return a new array of given shape filled with value.\n",
       "\n",
       "\n",
       "Examples\n",
       "--------\n",
       ">>> np.ones(5)\n",
       "array([1., 1., 1., 1., 1.])\n",
       "\n",
       ">>> np.ones((5,), dtype=int)\n",
       "array([1, 1, 1, 1, 1])\n",
       "\n",
       ">>> np.ones((2, 1))\n",
       "array([[1.],\n",
       "       [1.]])\n",
       "\n",
       ">>> s = (2,2)\n",
       ">>> np.ones(s)\n",
       "array([[1.,  1.],\n",
       "       [1.,  1.]])\n",
       "\u001b[0;31mFile:\u001b[0m      ~/miniconda3/envs/ML/lib/python3.9/site-packages/numpy/core/numeric.py\n",
       "\u001b[0;31mType:\u001b[0m      function\n"
      ]
     },
     "metadata": {},
     "output_type": "display_data"
    }
   ],
   "source": [
    "np.ones?"
   ]
  },
  {
   "cell_type": "code",
   "execution_count": 11,
   "id": "8ce3d603-113e-4711-8024-48bb4c6b4fd9",
   "metadata": {},
   "outputs": [
    {
     "data": {
      "text/plain": [
       "array([[1., 1., 1.],\n",
       "       [1., 1., 1.],\n",
       "       [1., 1., 1.]])"
      ]
     },
     "execution_count": 11,
     "metadata": {},
     "output_type": "execute_result"
    }
   ],
   "source": [
    "np.ones((3, 3))"
   ]
  },
  {
   "cell_type": "code",
   "execution_count": 12,
   "id": "794d18b3-5631-4dc9-b0f5-f40d8bd5140a",
   "metadata": {},
   "outputs": [
    {
     "data": {
      "text/plain": [
       "array([[0., 0., 0.],\n",
       "       [0., 0., 0.],\n",
       "       [0., 0., 0.]])"
      ]
     },
     "execution_count": 12,
     "metadata": {},
     "output_type": "execute_result"
    }
   ],
   "source": [
    "np.zeros((3, 3))"
   ]
  },
  {
   "cell_type": "markdown",
   "id": "a6e47482-e1c6-469e-ad61-a11be9a12c05",
   "metadata": {},
   "source": [
    "A very useful function for creating sequences of numbers within a specified range, NumPy's `arange` function follows the same syntax as Python's `range` objects.  If two arguments are provided, the first argument represents the start value and the second value defines the stop value."
   ]
  },
  {
   "cell_type": "code",
   "execution_count": 11,
   "id": "1ee7a6c0-eab6-4758-a347-c600a9022ccd",
   "metadata": {},
   "outputs": [],
   "source": [
    "a = np.arange(4., 10.)"
   ]
  },
  {
   "cell_type": "code",
   "execution_count": 12,
   "id": "69dc3537-aa37-4bd7-90e6-b91434c97e29",
   "metadata": {},
   "outputs": [
    {
     "data": {
      "text/plain": [
       "array([0, 1, 2, 3, 4])"
      ]
     },
     "execution_count": 12,
     "metadata": {},
     "output_type": "execute_result"
    }
   ],
   "source": [
    "np.arange(5) # comparable to list(range(5))"
   ]
  },
  {
   "cell_type": "code",
   "execution_count": 4,
   "id": "222932a2-db04-426b-9e2d-d0c516341f55",
   "metadata": {},
   "outputs": [
    {
     "data": {
      "text/plain": [
       "array([1., 3., 5., 7., 9.])"
      ]
     },
     "execution_count": 4,
     "metadata": {},
     "output_type": "execute_result"
    }
   ],
   "source": [
    "np.arange(1., 10., 2) # with interval"
   ]
  },
  {
   "cell_type": "markdown",
   "id": "1523e344-8b46-4af2-b128-6667b3b8fdb5",
   "metadata": {},
   "source": [
    "### Array Indexing"
   ]
  },
  {
   "cell_type": "markdown",
   "id": "c2471a86-4778-4d20-9310-71658cc072a6",
   "metadata": {},
   "source": [
    "Simple NumPy indexing and slicing works similar to Python lists"
   ]
  },
  {
   "cell_type": "code",
   "execution_count": 13,
   "id": "0e53d8bb-d38e-4781-b685-72a14f6cc799",
   "metadata": {},
   "outputs": [
    {
     "data": {
      "text/plain": [
       "1"
      ]
     },
     "execution_count": 13,
     "metadata": {},
     "output_type": "execute_result"
    }
   ],
   "source": [
    "ary = np.array([1, 2, 3])\n",
    "ary[0]"
   ]
  },
  {
   "cell_type": "code",
   "execution_count": 16,
   "id": "4f4733ef-b0ac-45b8-9093-d54c7db02508",
   "metadata": {},
   "outputs": [
    {
     "data": {
      "text/plain": [
       "1"
      ]
     },
     "execution_count": 16,
     "metadata": {},
     "output_type": "execute_result"
    }
   ],
   "source": [
    "ary = np.array([[1, 2, 3],\n",
    "                [4, 5, 6]])\n",
    "\n",
    "ary[0, 0] # guess where"
   ]
  },
  {
   "cell_type": "code",
   "execution_count": 17,
   "id": "9db752ae-c32b-4d6e-9454-2f59bfc9500f",
   "metadata": {},
   "outputs": [
    {
     "data": {
      "text/plain": [
       "array([1, 4])"
      ]
     },
     "execution_count": 17,
     "metadata": {},
     "output_type": "execute_result"
    }
   ],
   "source": [
    "ary[:,0]"
   ]
  },
  {
   "cell_type": "code",
   "execution_count": 18,
   "id": "ff587864-28da-4446-b42c-ef1dbf1a5fc9",
   "metadata": {},
   "outputs": [],
   "source": [
    "# ary[-1, -1] # guess where"
   ]
  },
  {
   "cell_type": "code",
   "execution_count": 19,
   "id": "afc49a65-b0fd-44ae-9311-28858235442d",
   "metadata": {},
   "outputs": [],
   "source": [
    "# ary[0, 1] # guess where"
   ]
  },
  {
   "cell_type": "markdown",
   "id": "9e8dfe9f-3f9a-4c58-8465-7ecc2ad2e176",
   "metadata": {},
   "source": [
    "<img src=\"images/numpy-intro/array_2.png\" alt=\"Drawing\" style=\"width: 300px;\"/>"
   ]
  },
  {
   "cell_type": "code",
   "execution_count": 13,
   "id": "7a5eccb8-9510-492f-9898-a766a0581539",
   "metadata": {},
   "outputs": [
    {
     "data": {
      "text/plain": [
       "array([1, 2, 3])"
      ]
     },
     "execution_count": 13,
     "metadata": {},
     "output_type": "execute_result"
    }
   ],
   "source": [
    "ary[0] "
   ]
  },
  {
   "cell_type": "code",
   "execution_count": 16,
   "id": "94d87c0f-1ca7-4a97-9623-9f10ad7e475c",
   "metadata": {},
   "outputs": [
    {
     "data": {
      "text/plain": [
       "array([1, 4])"
      ]
     },
     "execution_count": 16,
     "metadata": {},
     "output_type": "execute_result"
    }
   ],
   "source": [
    "ary[:, 0] "
   ]
  },
  {
   "cell_type": "code",
   "execution_count": 17,
   "id": "cfd2b989-d19b-4e7b-841b-8798b3a9755a",
   "metadata": {},
   "outputs": [
    {
     "data": {
      "text/plain": [
       "array([[1, 2],\n",
       "       [4, 5]])"
      ]
     },
     "execution_count": 17,
     "metadata": {},
     "output_type": "execute_result"
    }
   ],
   "source": [
    "ary[:, :2] "
   ]
  },
  {
   "cell_type": "markdown",
   "id": "0a4338ca-1bfa-41af-806d-1a61cda44e2e",
   "metadata": {},
   "source": [
    "---\n",
    "\n",
    "### 3. NumPy Array Math and Universal Functions\n",
    "\n",
    "---"
   ]
  },
  {
   "cell_type": "markdown",
   "id": "97b83428-75b6-4a6f-a2f6-a2bd3474b0c6",
   "metadata": {},
   "source": [
    "So why is numpy so useful ? Vectorization : calling mathematical operations on sequence-like objects. These operations can be applied in parallel vs. sequentially if elements are not inter-dependent.\n",
    "\n",
    "While we typically use for-loops if we want to perform arithmetic operations on sequence-like objects, NumPy provides vectorized wrappers for performing element-wise operations implicitly via *ufuncs* -- short for universal functions.  \n",
    "\n",
    "Ufuncs are implemented in compiled C code and very fast and efficient compared to vanilla Python\n"
   ]
  },
  {
   "cell_type": "code",
   "execution_count": 20,
   "id": "b810fb65-1fdd-42b4-a2c6-d3b67d445850",
   "metadata": {},
   "outputs": [
    {
     "data": {
      "text/plain": [
       "[[2, 3, 4], [5, 6, 7]]"
      ]
     },
     "execution_count": 20,
     "metadata": {},
     "output_type": "execute_result"
    }
   ],
   "source": [
    "# how would we add 1 to each element of this list of lists ?\n",
    "lst = [[1, 2, 3], [4, 5, 6]]\n",
    "\n",
    "for row_idx, row_val in enumerate(lst):\n",
    "    for col_idx, col_val in enumerate(row_val):\n",
    "        lst[row_idx][col_idx] += 1\n",
    "lst"
   ]
  },
  {
   "cell_type": "code",
   "execution_count": 19,
   "id": "930a808e-b02d-4c37-9676-3bf7ea8487a6",
   "metadata": {},
   "outputs": [
    {
     "data": {
      "text/plain": [
       "array([[2, 3, 4],\n",
       "       [5, 6, 7]])"
      ]
     },
     "execution_count": 19,
     "metadata": {},
     "output_type": "execute_result"
    }
   ],
   "source": [
    "ary = np.array([[1, 2, 3], [4, 5, 6]])\n",
    "ary = np.add(ary, 1)\n",
    "ary"
   ]
  },
  {
   "cell_type": "markdown",
   "id": "32e1c34d-58a4-4c8e-9534-b5bb8c1157a8",
   "metadata": {},
   "source": [
    "The ufuncs for basic arithmetic operations are `add`, `subtract`, `divide`, `multiply`, and `exp` (exponential). However, NumPy uses operator overloading so that we can use mathematical operators (`+`, `-`, `/`, `*`, and `**`) directly:"
   ]
  },
  {
   "cell_type": "code",
   "execution_count": 26,
   "id": "10997186-02b8-4442-8d73-4bd1950a45e5",
   "metadata": {},
   "outputs": [
    {
     "data": {
      "text/plain": [
       "array([[3, 4, 5],\n",
       "       [6, 7, 8]])"
      ]
     },
     "execution_count": 26,
     "metadata": {},
     "output_type": "execute_result"
    }
   ],
   "source": [
    "ary + 1"
   ]
  },
  {
   "cell_type": "code",
   "execution_count": 27,
   "id": "2a99a0c7-c970-4e7a-bb85-2e3db6d4d779",
   "metadata": {},
   "outputs": [
    {
     "data": {
      "text/plain": [
       "array([[ 4,  9, 16],\n",
       "       [25, 36, 49]])"
      ]
     },
     "execution_count": 27,
     "metadata": {},
     "output_type": "execute_result"
    }
   ],
   "source": [
    "ary**2"
   ]
  },
  {
   "cell_type": "markdown",
   "id": "801b23bf-88a2-4aa0-b6b4-778b269f9b1f",
   "metadata": {},
   "source": [
    "Often, we want to compute the sum or product of an array element along a given axis. For this purpose, we can use a ufunc's `reduce` operation. By default, `reduce` applies an operation along the first axis (`axis=0`). In the case of a two-dimensional array, we can think of the first axis as the rows of a matrix. Thus, adding up elements along rows yields the column sums of that matrix as shown below:"
   ]
  },
  {
   "cell_type": "code",
   "execution_count": 3,
   "id": "45d3fc9e-4bdd-4e15-a631-bd023398fbce",
   "metadata": {},
   "outputs": [
    {
     "data": {
      "text/plain": [
       "array([5, 7, 9])"
      ]
     },
     "execution_count": 3,
     "metadata": {},
     "output_type": "execute_result"
    }
   ],
   "source": [
    "ary = np.array([[1, 2, 3], [4, 5, 6]])\n",
    "np.add.reduce(ary, axis=0)"
   ]
  },
  {
   "cell_type": "markdown",
   "id": "06ab8cb7-7d96-47b1-b217-1ab69e829c9e",
   "metadata": {},
   "source": [
    "While it can be more intuitive to use `reduce` as a more general operation, NumPy also provides shorthands for specific operations such as `product` and `sum`. For example, `sum(axis=0)` is equivalent to `add.reduce`:"
   ]
  },
  {
   "cell_type": "code",
   "execution_count": 20,
   "id": "19494720-86eb-47ae-88bf-5fd75a299bcb",
   "metadata": {},
   "outputs": [
    {
     "data": {
      "text/plain": [
       "array([5, 7, 9])"
      ]
     },
     "execution_count": 20,
     "metadata": {},
     "output_type": "execute_result"
    }
   ],
   "source": [
    "ary.sum(axis=0)"
   ]
  },
  {
   "cell_type": "markdown",
   "id": "c2fac5ca-56c2-42d9-afe9-412c483ef323",
   "metadata": {},
   "source": [
    "<img src=\"images/numpy-intro/ufunc.png\" alt=\"Drawing\" style=\"width: 600px;\"/>"
   ]
  },
  {
   "cell_type": "markdown",
   "id": "7d5af602-1cd9-4c38-b2f7-8f2f378823d6",
   "metadata": {},
   "source": [
    "Should be 7 not 6 in the figure above"
   ]
  },
  {
   "cell_type": "markdown",
   "id": "c82dd0a9-1c3b-4499-9ef3-a855e6ba818a",
   "metadata": {},
   "source": [
    "Other useful unary ufuncs are:\n",
    "    \n",
    "- `np.mean` (computes arithmetic average)\n",
    "- `np.std` (computes the standard deviation)\n",
    "- `np.var` (computes variance)\n",
    "- `np.sort` (sorts an array)\n",
    "- `np.argsort` (returns indices that would sort an array)\n",
    "- `np.min` (returns the minimum value of an array)\n",
    "- `np.max` (returns the maximum value of an array)\n",
    "- `np.argmin` (returns the index of the minimum value)\n",
    "- `np.argmax` (returns the index of the maximum value)\n",
    "- `np.array_equal` (checks if two arrays have the same shape and elements)"
   ]
  },
  {
   "cell_type": "code",
   "execution_count": 27,
   "id": "5cc9a05f-9e42-4715-bf77-937514015229",
   "metadata": {},
   "outputs": [
    {
     "data": {
      "text/plain": [
       "2"
      ]
     },
     "execution_count": 27,
     "metadata": {},
     "output_type": "execute_result"
    }
   ],
   "source": [
    "a = np.array([5,6,1,3,4])\n",
    "np.argmin(a)"
   ]
  },
  {
   "cell_type": "markdown",
   "id": "207aa790-41ae-4f82-ac2a-13f8d3880b05",
   "metadata": {},
   "source": [
    "---\n",
    "\n",
    "### 4. NumPy Broadcasting\n",
    "\n",
    "---"
   ]
  },
  {
   "cell_type": "markdown",
   "id": "7aab5951-537a-49c6-83ee-552ffe02fbc6",
   "metadata": {},
   "source": [
    "Broadcasting allows us to perform vectorized operations between two arrays even if their dimensions do not match by creating implicit multidimensional grids.  \n",
    "\n",
    "<img src=\"images/numpy-intro/broadcasting-1.png\" alt=\"Drawing\" style=\"width: 500px;\"/>\n"
   ]
  },
  {
   "cell_type": "code",
   "execution_count": 4,
   "id": "91db0351-9b63-45c7-95b5-aaf279a02761",
   "metadata": {},
   "outputs": [
    {
     "data": {
      "text/plain": [
       "array([2, 3, 4])"
      ]
     },
     "execution_count": 4,
     "metadata": {},
     "output_type": "execute_result"
    }
   ],
   "source": [
    "ary1 = np.array([1, 2, 3]) + 1 \n",
    "ary1"
   ]
  },
  {
   "cell_type": "markdown",
   "id": "8f5fff31-8d46-4a0f-aa1d-53dba904bace",
   "metadata": {},
   "source": [
    "In contrast to what we are used to in linear algebra, we can also add arrays of different shapes. In the example above, we will add a one-dimensional to a two-dimensional array, where NumPy creates an implicit multidimensional grid from the one-dimensional array `ary1`:"
   ]
  },
  {
   "cell_type": "code",
   "execution_count": 5,
   "id": "f6e8eeae-486a-4523-adfa-07a8f0b3870d",
   "metadata": {},
   "outputs": [
    {
     "data": {
      "text/plain": [
       "array([[ 6,  8, 10],\n",
       "       [ 9, 11, 13]])"
      ]
     },
     "execution_count": 5,
     "metadata": {},
     "output_type": "execute_result"
    }
   ],
   "source": [
    "ary2 = np.array([[4, 5, 6], \n",
    "                 [7, 8, 9]])\n",
    "\n",
    "ary2 + ary1"
   ]
  },
  {
   "cell_type": "markdown",
   "id": "a87020be-9ec5-4d28-97bf-725ac0a3a41e",
   "metadata": {},
   "source": [
    "<img src=\"images/numpy-intro/broadcasting-2.png\" alt=\"Drawing\" style=\"width: 500px;\"/>"
   ]
  },
  {
   "cell_type": "code",
   "execution_count": 6,
   "id": "afa04a1a-9b4e-4e51-a1a5-31a47f255ecc",
   "metadata": {},
   "outputs": [
    {
     "data": {
      "text/plain": [
       "array([[ 5,  6,  7],\n",
       "       [ 8,  9, 10]])"
      ]
     },
     "execution_count": 6,
     "metadata": {},
     "output_type": "execute_result"
    }
   ],
   "source": [
    "ary2 + np.array([[1],\n",
    "                 [1]]) # if we wanted to add a column vector"
   ]
  },
  {
   "cell_type": "markdown",
   "id": "6de282df-ebf9-4b99-8757-a44d9da04356",
   "metadata": {},
   "source": [
    "---\n",
    "\n",
    "### 5. Views vs. copies\n",
    "\n",
    "___"
   ]
  },
  {
   "cell_type": "markdown",
   "id": "a52317ce-d6e5-40b0-b85a-7d64a186df6f",
   "metadata": {},
   "source": [
    "Slicing and indexing yields a *view* of the original array.  This takes up less memory and can be desirable! but be aware that any change you make to the view will modify the original array and vice-versa..."
   ]
  },
  {
   "cell_type": "code",
   "execution_count": 32,
   "id": "05022101-4205-4522-a247-1e47f4f292d1",
   "metadata": {},
   "outputs": [
    {
     "data": {
      "text/plain": [
       "array([[100, 101, 102],\n",
       "       [  4,   5,   6]])"
      ]
     },
     "execution_count": 32,
     "metadata": {},
     "output_type": "execute_result"
    }
   ],
   "source": [
    "ary = np.array([[1, 2, 3],\n",
    "                [4, 5, 6]])\n",
    "\n",
    "first_row = ary[0]\n",
    "first_row += 99\n",
    "ary"
   ]
  },
  {
   "cell_type": "markdown",
   "id": "6f358d53-daa9-4ec8-b647-00404c472496",
   "metadata": {},
   "source": [
    "If you want to handle a slice of the array independently, use `copy`"
   ]
  },
  {
   "cell_type": "code",
   "execution_count": 33,
   "id": "d2a5dcda-d3fa-4e49-b3c7-db948bed0518",
   "metadata": {},
   "outputs": [
    {
     "data": {
      "text/plain": [
       "array([[1, 2, 3],\n",
       "       [4, 5, 6]])"
      ]
     },
     "execution_count": 33,
     "metadata": {},
     "output_type": "execute_result"
    }
   ],
   "source": [
    "ary = np.array([[1, 2, 3],\n",
    "                [4, 5, 6]])\n",
    "\n",
    "second_row = ary[1].copy()\n",
    "second_row += 99\n",
    "ary"
   ]
  },
  {
   "cell_type": "markdown",
   "id": "4b1b3057-d484-4a40-8985-801730f2b6a8",
   "metadata": {},
   "source": [
    "### Boolean Masks Sidenote"
   ]
  },
  {
   "cell_type": "markdown",
   "id": "b1852944-c723-472e-84d8-7726f4908d9c",
   "metadata": {},
   "source": [
    "We can use masks to find certain values in an array (the amount of correct labels in a model's prediction for example).  "
   ]
  },
  {
   "cell_type": "code",
   "execution_count": 36,
   "id": "4f35d059-5564-49e3-a169-ec16272e2688",
   "metadata": {},
   "outputs": [
    {
     "data": {
      "text/plain": [
       "array([[False, False, False],\n",
       "       [ True,  True,  True]])"
      ]
     },
     "execution_count": 36,
     "metadata": {},
     "output_type": "execute_result"
    }
   ],
   "source": [
    "ary = np.array([[1., 2., 3.],\n",
    "               [4., 5., 6.]])\n",
    "\n",
    "greaterThan3 = ary > 3\n",
    "greaterThan3"
   ]
  },
  {
   "cell_type": "markdown",
   "id": "1c41f4b1-7662-4c37-88bf-24b5e32b9e24",
   "metadata": {},
   "source": [
    "We can use these masks as a *fancy* form of indexing.  This returns a copy, not a view."
   ]
  },
  {
   "cell_type": "code",
   "execution_count": 35,
   "id": "2dd7d00a-3957-4d30-b61a-f126178a0225",
   "metadata": {},
   "outputs": [
    {
     "data": {
      "text/plain": [
       "array([1., 2., 3.])"
      ]
     },
     "execution_count": 35,
     "metadata": {},
     "output_type": "execute_result"
    }
   ],
   "source": [
    "ary[greaterThan3==False]"
   ]
  },
  {
   "cell_type": "markdown",
   "id": "00fcfb5f-6fd1-44f0-be1a-65a5e0bc3762",
   "metadata": {},
   "source": [
    "We can also chain different selection criteria using the logical *and* operator '&' or the logical *or* operator '|'. The example below demonstrates how we can select array elements that are greater than 3 and divisible by 2:"
   ]
  },
  {
   "cell_type": "code",
   "execution_count": 37,
   "id": "050cf257-f2c0-426e-9e4c-f68ff314469d",
   "metadata": {},
   "outputs": [
    {
     "data": {
      "text/plain": [
       "array([[False, False, False],\n",
       "       [ True, False,  True]])"
      ]
     },
     "execution_count": 37,
     "metadata": {},
     "output_type": "execute_result"
    }
   ],
   "source": [
    "(ary > 3) & (ary %2 == 0)"
   ]
  },
  {
   "cell_type": "code",
   "execution_count": 24,
   "id": "82092883-2767-47ab-ac44-e4b6b0ed5af6",
   "metadata": {
    "tags": []
   },
   "outputs": [
    {
     "data": {
      "text/plain": [
       "array([4, 6])"
      ]
     },
     "execution_count": 24,
     "metadata": {},
     "output_type": "execute_result"
    }
   ],
   "source": [
    "ary[(ary > 3) & (ary %2 == 0)]"
   ]
  },
  {
   "cell_type": "markdown",
   "id": "6fc6f6d7-a254-496f-b747-9b2ba6c3e68c",
   "metadata": {},
   "source": [
    "---\n",
    "\n",
    "### 6. Random Number Generators\n",
    "\n",
    "---"
   ]
  },
  {
   "cell_type": "markdown",
   "id": "b72b80b7-4807-40c2-b6df-81f1c8c9f059",
   "metadata": {},
   "source": [
    "In machine learning and deep learning, we often have to generate arrays of random numbers -- for example, the initial values of our model parameters before optimization or the random shuffling of the data.  And in order for the experiment/model to be reproducible, we want to be able to reproduce this randomness."
   ]
  },
  {
   "cell_type": "code",
   "execution_count": 10,
   "id": "1b6d7624-cdba-4f57-990b-eff49a0710b1",
   "metadata": {},
   "outputs": [
    {
     "name": "stdout",
     "output_type": "stream",
     "text": [
      "[0.36581319 0.576958   0.70814526]\n"
     ]
    }
   ],
   "source": [
    "print(np.random.rand(3))"
   ]
  },
  {
   "cell_type": "code",
   "execution_count": 14,
   "id": "0d783c86-a430-4f9a-92e5-fe0f03631ab1",
   "metadata": {},
   "outputs": [
    {
     "name": "stdout",
     "output_type": "stream",
     "text": [
      "[0.18026969 0.01947524 0.46321853]\n"
     ]
    }
   ],
   "source": [
    "np.random.seed(11) # set seed => guarantees same results\n",
    "\n",
    "print(np.random.rand(3)) # same 3 numbers will be generated over and over again"
   ]
  },
  {
   "cell_type": "code",
   "execution_count": 23,
   "id": "41ce8cc9-f2a9-43f4-a18c-d3ddc9e8e5d9",
   "metadata": {},
   "outputs": [
    {
     "name": "stdout",
     "output_type": "stream",
     "text": [
      "[0.34462449 0.3187988  0.11166123]\n"
     ]
    }
   ],
   "source": [
    "np.random.seed(11)\n",
    "print(np.random.rand(3)) "
   ]
  },
  {
   "cell_type": "code",
   "execution_count": 21,
   "id": "59fb3e84-eb1f-4d0c-b965-96ba0e576aba",
   "metadata": {},
   "outputs": [
    {
     "data": {
      "text/plain": [
       "array([[1, 3],\n",
       "       [6, 2]])"
      ]
     },
     "execution_count": 21,
     "metadata": {},
     "output_type": "execute_result"
    }
   ],
   "source": [
    "# can intialize a matrix with random integers\n",
    "np.random.randint(0,10, size=(2,2))"
   ]
  },
  {
   "cell_type": "markdown",
   "id": "35454b22-5eda-40e0-9dd7-20616ebc2361",
   "metadata": {},
   "source": [
    "---\n",
    "\n",
    "### 7. Reshaping NumPy Arrays\n",
    "\n",
    "---"
   ]
  },
  {
   "cell_type": "markdown",
   "id": "ed510d0b-62eb-4c01-8d74-e3e440077549",
   "metadata": {},
   "source": [
    "In practice, we often run into situations where existing arrays do not have the *right* shape to perform certain computations (transforming a matrix of pixels into a 1-d vector to feed to a classifier for example). As you might remember from the beginning of this lecture, the size of NumPy arrays is fixed. Fortunately, this does not mean that we have to create new arrays and copy values from the old array to the new one if we want arrays of different shapes -- the size is fixed, but the shape is not. NumPy provides a `reshape` method that allows us to obtain a view of an array with a different shape. "
   ]
  },
  {
   "cell_type": "code",
   "execution_count": 28,
   "id": "a559ff15-493f-4907-852b-64569ef8e104",
   "metadata": {},
   "outputs": [
    {
     "data": {
      "text/plain": [
       "array([[1, 2, 3],\n",
       "       [4, 5, 6]])"
      ]
     },
     "execution_count": 28,
     "metadata": {},
     "output_type": "execute_result"
    }
   ],
   "source": [
    "ary1d = np.array([1, 2, 3, 4, 5, 6])\n",
    "ary2d_view = ary1d.reshape(2, 3)\n",
    "ary2d_view"
   ]
  },
  {
   "cell_type": "code",
   "execution_count": 47,
   "id": "bb41c590-9364-406e-b87d-defecac302dc",
   "metadata": {},
   "outputs": [
    {
     "data": {
      "text/plain": [
       "True"
      ]
     },
     "execution_count": 47,
     "metadata": {},
     "output_type": "execute_result"
    }
   ],
   "source": [
    "np.may_share_memory(ary2d_view, ary1d)"
   ]
  },
  {
   "cell_type": "markdown",
   "id": "fb597847-a970-47e5-83e5-973629547906",
   "metadata": {},
   "source": [
    "While we need to specify the desired elements along each axis, we need to make sure that the reshaped array has the same number of elements as the original one. However, we do not need to specify the number elements in each axis; NumPy is smart enough to figure out how many elements to put along an axis if only one axis is unspecified (by using the placeholder `-1`):"
   ]
  },
  {
   "cell_type": "code",
   "execution_count": 33,
   "id": "e6dfb11d-6f28-493a-a309-a441e1be5df1",
   "metadata": {},
   "outputs": [
    {
     "data": {
      "text/plain": [
       "array([[1, 2, 3],\n",
       "       [4, 5, 6]])"
      ]
     },
     "execution_count": 33,
     "metadata": {},
     "output_type": "execute_result"
    }
   ],
   "source": [
    "ary1d.reshape(2, -1)"
   ]
  },
  {
   "cell_type": "code",
   "execution_count": 49,
   "id": "db3798e8-2267-44b7-b14e-41c25aed72a5",
   "metadata": {},
   "outputs": [
    {
     "data": {
      "text/plain": [
       "array([[1, 2],\n",
       "       [3, 4],\n",
       "       [5, 6]])"
      ]
     },
     "execution_count": 49,
     "metadata": {},
     "output_type": "execute_result"
    }
   ],
   "source": [
    "ary1d.reshape(-1, 2)"
   ]
  },
  {
   "cell_type": "code",
   "execution_count": 34,
   "id": "d11a6d27-cff3-43c1-a8f7-1a7401d41bb8",
   "metadata": {},
   "outputs": [
    {
     "name": "stdout",
     "output_type": "stream",
     "text": [
      "(1, 2, 3)\n"
     ]
    },
    {
     "data": {
      "text/plain": [
       "array([1, 2, 3, 4, 5, 6])"
      ]
     },
     "execution_count": 34,
     "metadata": {},
     "output_type": "execute_result"
    }
   ],
   "source": [
    "ary = np.array([[[1, 2, 3],\n",
    "                [4, 5, 6]]])\n",
    "print(ary.shape)\n",
    "ary.reshape(-1)"
   ]
  },
  {
   "cell_type": "markdown",
   "id": "453ba02d-e63b-4c33-96c8-935bef381fb9",
   "metadata": {},
   "source": [
    "Sometimes, we are interested in merging different arrays. Unfortunately, there is no efficient way to do this without creating a new array, since NumPy arrays have a fixed size.  \n",
    "To combine two or more array objects, we can use NumPy's `concatenate` function as shown in the following examples:"
   ]
  },
  {
   "cell_type": "code",
   "execution_count": 53,
   "id": "09818043-7fbb-4fa5-8c9a-1e9edfdb227e",
   "metadata": {},
   "outputs": [
    {
     "data": {
      "text/plain": [
       "array([1, 2, 3, 1, 2, 3])"
      ]
     },
     "execution_count": 53,
     "metadata": {},
     "output_type": "execute_result"
    }
   ],
   "source": [
    "ary = np.array([1, 2, 3])\n",
    "\n",
    "# stack along the only axis\n",
    "ary1 = np.concatenate((ary, ary)) \n",
    "ary1\n",
    "#np.may_share_memory(ary, ary1)"
   ]
  },
  {
   "cell_type": "code",
   "execution_count": 65,
   "id": "4b975ca2-ea65-4500-9529-635f8e4d8c56",
   "metadata": {},
   "outputs": [
    {
     "data": {
      "text/plain": [
       "array([[1, 2, 3],\n",
       "       [4, 5, 6],\n",
       "       [1, 2, 3]])"
      ]
     },
     "execution_count": 65,
     "metadata": {},
     "output_type": "execute_result"
    }
   ],
   "source": [
    "ary1 = np.array ([[1,2,3],\n",
    "                 [4,5,6]])\n",
    "\n",
    "ary2 = np.array([[1,2,3]])\n",
    "\n",
    "np.concatenate((ary1, ary2), axis=0)"
   ]
  },
  {
   "cell_type": "code",
   "execution_count": 68,
   "id": "6113c905-4475-44a5-ba22-40bf28f37fa0",
   "metadata": {},
   "outputs": [
    {
     "data": {
      "text/plain": [
       "array([[1, 2, 3, 1],\n",
       "       [4, 5, 6, 2]])"
      ]
     },
     "execution_count": 68,
     "metadata": {},
     "output_type": "execute_result"
    }
   ],
   "source": [
    "ary1 = np.array ([[1,2,3],\n",
    "                 [4,5,6]])\n",
    "ary2 = np.array([[1],\n",
    "                 [2]])\n",
    "\n",
    "np.concatenate((ary1, ary2), axis=1)"
   ]
  },
  {
   "cell_type": "markdown",
   "id": "f12c6fda-3b30-4b81-892f-7aa599f9b411",
   "metadata": {},
   "source": [
    "---\n",
    "\n",
    "### 8.Comparison Operators and Masks\n",
    "\n",
    "___"
   ]
  },
  {
   "cell_type": "markdown",
   "id": "1ea6cf7e-efcd-43a0-b280-d7d0863115ce",
   "metadata": {},
   "source": [
    "(We previously saw this in the indexing sidenote) Boolean masks are `bool`-type arrays (storing `True` and `False` values) that have the same shape as a certain target array. For example, consider the following 4-element array below. Using comparison operators (such as `<`, `>`, `<=`, and `>=`), we can create a Boolean mask of that array which consists of `True` and `False` elements depending on whether a condition is met in the target array (here: `ary`):"
   ]
  },
  {
   "cell_type": "code",
   "execution_count": 160,
   "id": "e9745b36-3ecd-476f-9b56-79eaf38eb721",
   "metadata": {},
   "outputs": [
    {
     "data": {
      "text/plain": [
       "array([False, False,  True,  True,  True])"
      ]
     },
     "execution_count": 160,
     "metadata": {},
     "output_type": "execute_result"
    }
   ],
   "source": [
    "ary = np.array([1, 2, 3, 4, 5])\n",
    "mask = ary > 2\n",
    "mask"
   ]
  },
  {
   "cell_type": "markdown",
   "id": "cf557159-e2f0-4bc6-b29e-f49321544f22",
   "metadata": {},
   "source": [
    "Once we have created such a Boolean mask, we can use it to select certain entries from the target array -- those entries that match the condition upon which the mask was created):"
   ]
  },
  {
   "cell_type": "code",
   "execution_count": 161,
   "id": "738e0d22-1e27-448f-a0c3-0d7e3110e3aa",
   "metadata": {},
   "outputs": [
    {
     "data": {
      "text/plain": [
       "array([3, 4, 5])"
      ]
     },
     "execution_count": 161,
     "metadata": {},
     "output_type": "execute_result"
    }
   ],
   "source": [
    "ary[mask]"
   ]
  },
  {
   "cell_type": "markdown",
   "id": "e3c0fe97-366b-4611-822a-6c59bfc7ce55",
   "metadata": {},
   "source": [
    "`mask.sum()` Beyond the selection of elements from an array, Boolean masks can also come in handy when we want to count how many elements in an array meet a certain condition:"
   ]
  },
  {
   "cell_type": "code",
   "execution_count": 162,
   "id": "b8c7f859-884f-4d7c-853a-1867fbd0523c",
   "metadata": {},
   "outputs": [
    {
     "data": {
      "text/plain": [
       "array([False, False,  True,  True,  True])"
      ]
     },
     "execution_count": 162,
     "metadata": {},
     "output_type": "execute_result"
    }
   ],
   "source": [
    "mask"
   ]
  },
  {
   "cell_type": "code",
   "execution_count": 163,
   "id": "cb75b4c1-82eb-4907-a151-78e4665bfa9d",
   "metadata": {},
   "outputs": [
    {
     "data": {
      "text/plain": [
       "3"
      ]
     },
     "execution_count": 163,
     "metadata": {},
     "output_type": "execute_result"
    }
   ],
   "source": [
    "mask.sum()"
   ]
  },
  {
   "cell_type": "markdown",
   "id": "a672252a-bbc4-49bc-b02e-60b592bdd5ac",
   "metadata": {},
   "source": [
    "A related, useful function to assign values to specific elements in an array is the `np.where` function. In the example below, we assign a 1 to all values in the array that are greater than 2 -- and 0, otherwise:"
   ]
  },
  {
   "cell_type": "code",
   "execution_count": 164,
   "id": "887930ec-e21b-49c6-add8-a1a8a3f7c883",
   "metadata": {},
   "outputs": [
    {
     "data": {
      "text/plain": [
       "array([0, 0, 1, 1, 1])"
      ]
     },
     "execution_count": 164,
     "metadata": {},
     "output_type": "execute_result"
    }
   ],
   "source": [
    "np.where(ary > 2, 1, 0)"
   ]
  },
  {
   "cell_type": "code",
   "execution_count": 166,
   "id": "c8bf3720-3362-4840-94b0-1a781d04c1ac",
   "metadata": {},
   "outputs": [
    {
     "data": {
      "text/plain": [
       "(array([2, 3, 4]),)"
      ]
     },
     "execution_count": 166,
     "metadata": {},
     "output_type": "execute_result"
    }
   ],
   "source": [
    "# you get indices if you don't specify the replacement arguments\n",
    "np.where(ary > 2)"
   ]
  },
  {
   "cell_type": "markdown",
   "id": "f906eb58-fe17-473b-900c-7c2f846729f9",
   "metadata": {},
   "source": [
    "There are also 'bit-wise' operators that we can use to specify more complex selection criteria:"
   ]
  },
  {
   "cell_type": "code",
   "execution_count": 92,
   "id": "5c51e572-92fd-410c-96b0-8f7cbbaa716b",
   "metadata": {},
   "outputs": [
    {
     "data": {
      "text/plain": [
       "array([0, 0, 1, 1, 1])"
      ]
     },
     "execution_count": 92,
     "metadata": {},
     "output_type": "execute_result"
    }
   ],
   "source": [
    "ary = np.array([1, 2, 3, 4, 5])\n",
    "mask = ary > 2\n",
    "ary[mask] = 1\n",
    "ary[~mask] = 0\n",
    "ary"
   ]
  },
  {
   "cell_type": "markdown",
   "id": "31605356-771d-4f89-9991-340d2a28b15c",
   "metadata": {},
   "source": [
    "The `~` operator in the example above is one of the logical operators in NumPy:\n",
    "    \n",
    "- And: `&`  or `np.bitwise_and`\n",
    "- Or: `|` or `np.bitwise_or`\n",
    "- Xor: `^` or `np.bitwise_xor`\n",
    "- Not: `~` or `np.bitwise_not`"
   ]
  },
  {
   "cell_type": "markdown",
   "id": "1427ed3c-d9a2-42ca-a8b3-0607db03e910",
   "metadata": {},
   "source": [
    "These logical operators allow us to chain an arbitrary number of conditions to create even more \"complex\" Boolean masks:"
   ]
  },
  {
   "cell_type": "code",
   "execution_count": 101,
   "id": "d8b52ea2-c09d-4129-8ff2-6bcb5dba4d00",
   "metadata": {},
   "outputs": [
    {
     "data": {
      "text/plain": [
       "array([False,  True,  True, False,  True])"
      ]
     },
     "execution_count": 101,
     "metadata": {},
     "output_type": "execute_result"
    }
   ],
   "source": [
    "ary = np.array([1, 2, 3, 4, 5])\n",
    " \n",
    "mask = (ary > 2) ^ (ary % 2 == 0)\n",
    "mask"
   ]
  },
  {
   "cell_type": "markdown",
   "id": "6e2ae18e-ca65-4d8f-838f-aff35def652d",
   "metadata": {},
   "source": [
    "`~` is the *negate* operator :"
   ]
  },
  {
   "cell_type": "code",
   "execution_count": 104,
   "id": "216e97a7-acd1-44d1-9dd8-5ca878ddca3a",
   "metadata": {},
   "outputs": [
    {
     "data": {
      "text/plain": [
       "array([ True, False, False,  True, False])"
      ]
     },
     "execution_count": 104,
     "metadata": {},
     "output_type": "execute_result"
    }
   ],
   "source": [
    "~((ary > 2) ^ (ary % 2 == 0))"
   ]
  },
  {
   "cell_type": "markdown",
   "id": "a519b23d-0ff3-4f01-9cfe-a94eca3180f7",
   "metadata": {},
   "source": [
    "### Dealing with predictions example"
   ]
  },
  {
   "cell_type": "code",
   "execution_count": 24,
   "id": "e5ff701e-5da8-4a9c-95ab-836c488bc3ea",
   "metadata": {},
   "outputs": [
    {
     "data": {
      "text/plain": [
       "array([0, 1, 0, 1, 1])"
      ]
     },
     "execution_count": 24,
     "metadata": {},
     "output_type": "execute_result"
    }
   ],
   "source": [
    "preds = np.array([0.3 ,0.9 ,0.2 ,0.68, 0.78])\n",
    "labels = np.array([0, 1, 0, 0, 1])\n",
    "\n",
    "mask_preds = np.where(preds > 0.5, 1, 0)\n",
    "mask_preds"
   ]
  },
  {
   "cell_type": "code",
   "execution_count": 25,
   "id": "23ffec34-ae5c-4647-b07c-5f6c78c540b5",
   "metadata": {},
   "outputs": [
    {
     "data": {
      "text/plain": [
       "array([ True,  True,  True, False,  True])"
      ]
     },
     "execution_count": 25,
     "metadata": {},
     "output_type": "execute_result"
    }
   ],
   "source": [
    "correct_predictions = (mask_preds == labels)\n",
    "correct_predictions"
   ]
  },
  {
   "cell_type": "code",
   "execution_count": 26,
   "id": "12252b5d-3a57-4653-b0e9-eb85b17e7d32",
   "metadata": {},
   "outputs": [
    {
     "data": {
      "text/plain": [
       "0.8"
      ]
     },
     "execution_count": 26,
     "metadata": {},
     "output_type": "execute_result"
    }
   ],
   "source": [
    "accuracy = correct_predictions.sum() / len(labels)\n",
    "accuracy"
   ]
  },
  {
   "cell_type": "markdown",
   "id": "6f71851b-e2b8-4f12-8edc-dc2d4d669e1a",
   "metadata": {},
   "source": [
    "---\n",
    "\n",
    "### 9. Linear Algebra with NumPy\n",
    "\n",
    "---"
   ]
  },
  {
   "cell_type": "markdown",
   "id": "308f4f3b-352c-4957-bf9f-8a624018fd3a",
   "metadata": {},
   "source": [
    "Intuitively, we can think of one-dimensional NumPy arrays as data structures that represent row vectors (this differs from the standard column vectors we are used to manipulating in linear algebra...) :"
   ]
  },
  {
   "cell_type": "code",
   "execution_count": 31,
   "id": "6be43115-b91a-4dc8-b622-f3baa14bedda",
   "metadata": {},
   "outputs": [
    {
     "data": {
      "text/plain": [
       "array([1, 2, 3])"
      ]
     },
     "execution_count": 31,
     "metadata": {},
     "output_type": "execute_result"
    }
   ],
   "source": [
    "row_vector = np.array([1, 2, 3])\n",
    "row_vector"
   ]
  },
  {
   "cell_type": "markdown",
   "id": "4dc2f6eb-6d5d-4621-a618-dccf9728ee05",
   "metadata": {},
   "source": [
    "Similarly, we can use two-dimensional arrays to create column vectors (a 3x1 matrix basically):"
   ]
  },
  {
   "cell_type": "code",
   "execution_count": 29,
   "id": "66f5950e-a2ed-4d33-8cc0-487941858f64",
   "metadata": {},
   "outputs": [
    {
     "data": {
      "text/plain": [
       "array([[1],\n",
       "       [2],\n",
       "       [3]])"
      ]
     },
     "execution_count": 29,
     "metadata": {},
     "output_type": "execute_result"
    }
   ],
   "source": [
    "column_vector = np.array([1, 2, 3]).reshape(-1, 1)\n",
    "column_vector"
   ]
  },
  {
   "cell_type": "markdown",
   "id": "80a54683-dc0e-4e7c-bbb8-ad714799a09c",
   "metadata": {},
   "source": [
    "We can think of a column vector as a matrix consisting only of one column.  \n",
    "To perform matrix multiplication between matrices, we learned that number of columns of the left matrix must match the number of rows of the matrix to the right. In NumPy, we can perform matrix multiplication via the `matmul` function:"
   ]
  },
  {
   "cell_type": "code",
   "execution_count": 28,
   "id": "a295b15e-a464-4c49-8a2d-d41405cad024",
   "metadata": {},
   "outputs": [],
   "source": [
    "matrix = np.array([[1, 2, 3], \n",
    "                   [4, 5, 6]])"
   ]
  },
  {
   "cell_type": "code",
   "execution_count": 60,
   "id": "c3e73e0d-3577-4401-9b05-9bb1a76417bd",
   "metadata": {},
   "outputs": [
    {
     "data": {
      "text/plain": [
       "array([[14],\n",
       "       [32]])"
      ]
     },
     "execution_count": 60,
     "metadata": {},
     "output_type": "execute_result"
    }
   ],
   "source": [
    "# 2x3 3x1 ==> 2x1\n",
    "np.matmul(matrix, column_vector) # our column vector has 2 dims"
   ]
  },
  {
   "cell_type": "markdown",
   "id": "db2ff024-c6c5-4f4a-96e7-4f8731e3269a",
   "metadata": {},
   "source": [
    "<img src=\"images/numpy-intro/matmul.png\" alt=\"Drawing\" style=\"width: 300px;\"/>"
   ]
  },
  {
   "cell_type": "markdown",
   "id": "1080039f-73fb-40fe-9920-c37b22db86fe",
   "metadata": {},
   "source": [
    "However numpy can be forgiving regarding dimensions... The following example yields the same result as the matrix-column vector multiplication, except that it returns a one-dimensional array instead of a two-dimensional one:"
   ]
  },
  {
   "cell_type": "code",
   "execution_count": 32,
   "id": "40381d78-016e-4a59-acff-cad8adc11a94",
   "metadata": {},
   "outputs": [
    {
     "data": {
      "text/plain": [
       "array([14, 32])"
      ]
     },
     "execution_count": 32,
     "metadata": {},
     "output_type": "execute_result"
    }
   ],
   "source": [
    "# 2x3 3 ==> 2\n",
    "np.matmul(matrix, row_vector)"
   ]
  },
  {
   "cell_type": "markdown",
   "id": "144794de-563d-4f65-b4f6-a2c7a2ea168b",
   "metadata": {},
   "source": [
    "NumPy has a special `dot` function that behaves similar to `matmul` on pairs of one- or two-dimensional arrays"
   ]
  },
  {
   "cell_type": "code",
   "execution_count": 133,
   "id": "e49f4b92-457e-4275-8a2d-3524557a2126",
   "metadata": {},
   "outputs": [
    {
     "data": {
      "text/plain": [
       "14"
      ]
     },
     "execution_count": 133,
     "metadata": {},
     "output_type": "execute_result"
    }
   ],
   "source": [
    "np.dot(row_vector, row_vector)"
   ]
  },
  {
   "cell_type": "code",
   "execution_count": 134,
   "id": "abed42ec-1809-4bc5-a00e-23e2ef1e1427",
   "metadata": {},
   "outputs": [
    {
     "data": {
      "text/plain": [
       "array([14, 32])"
      ]
     },
     "execution_count": 134,
     "metadata": {},
     "output_type": "execute_result"
    }
   ],
   "source": [
    "np.dot(matrix, row_vector)"
   ]
  },
  {
   "cell_type": "code",
   "execution_count": 135,
   "id": "468a5131-4e89-4b6b-89c1-b5cc0215a312",
   "metadata": {},
   "outputs": [
    {
     "data": {
      "text/plain": [
       "array([[14],\n",
       "       [32]])"
      ]
     },
     "execution_count": 135,
     "metadata": {},
     "output_type": "execute_result"
    }
   ],
   "source": [
    "np.dot(matrix, column_vector)"
   ]
  },
  {
   "cell_type": "markdown",
   "id": "e262c095-0f16-483a-ba98-bf20920ee2e8",
   "metadata": {},
   "source": [
    "You can also use a shortcut operator for `np.dot`, the `@`symbol :"
   ]
  },
  {
   "cell_type": "code",
   "execution_count": 136,
   "id": "171993ff-0caa-4630-b7df-a3f5a4e657e9",
   "metadata": {},
   "outputs": [
    {
     "data": {
      "text/plain": [
       "14"
      ]
     },
     "execution_count": 136,
     "metadata": {},
     "output_type": "execute_result"
    }
   ],
   "source": [
    "row_vector @ row_vector"
   ]
  },
  {
   "cell_type": "code",
   "execution_count": 138,
   "id": "4276755a-a56b-4c9d-9413-0e76374bbf42",
   "metadata": {},
   "outputs": [
    {
     "data": {
      "text/plain": [
       "array([14, 32])"
      ]
     },
     "execution_count": 138,
     "metadata": {},
     "output_type": "execute_result"
    }
   ],
   "source": [
    "matrix @ row_vector"
   ]
  },
  {
   "cell_type": "code",
   "execution_count": 137,
   "id": "a7c73e6f-a573-4955-b464-e3b866368020",
   "metadata": {},
   "outputs": [
    {
     "data": {
      "text/plain": [
       "array([[14],\n",
       "       [32]])"
      ]
     },
     "execution_count": 137,
     "metadata": {},
     "output_type": "execute_result"
    }
   ],
   "source": [
    "matrix @ column_vector"
   ]
  },
  {
   "cell_type": "markdown",
   "id": "fb7da6f8-f146-4bb8-820f-db373df7402d",
   "metadata": {},
   "source": [
    "NumPy arrays have a handy `transpose` method to transpose matrices if necessary:"
   ]
  },
  {
   "cell_type": "markdown",
   "id": "c56c2af0-2f57-48e3-92be-b87d35ff3519",
   "metadata": {},
   "source": [
    "<img src=\"images/numpy-intro/transpose.png\" alt=\"Drawing\" style=\"width: 500px;\"/>"
   ]
  },
  {
   "cell_type": "code",
   "execution_count": 62,
   "id": "fefc7a97-390f-4833-b27f-5ce281c59cfd",
   "metadata": {},
   "outputs": [
    {
     "data": {
      "text/plain": [
       "array([[14, 32],\n",
       "       [32, 77]])"
      ]
     },
     "execution_count": 62,
     "metadata": {},
     "output_type": "execute_result"
    }
   ],
   "source": [
    "# 2x3 3x2 ==> 2x2 \n",
    "matrix @ matrix.transpose()"
   ]
  },
  {
   "cell_type": "markdown",
   "id": "67b88be9-0c40-468a-a15d-ac070b6ce514",
   "metadata": {},
   "source": [
    "<img src=\"images/numpy-intro/matmatmul.png\" alt=\"Drawing\" style=\"width: 500px;\"/>"
   ]
  },
  {
   "cell_type": "markdown",
   "id": "388c5ca0-b201-4e6a-aff9-2f22903b3780",
   "metadata": {
    "tags": []
   },
   "source": [
    "### Multi-Dimensional arrays"
   ]
  },
  {
   "cell_type": "markdown",
   "id": "b154a1d0-6444-41e8-9f15-3be8130d48a1",
   "metadata": {},
   "source": [
    "These are not traditionally used with numpy, but you will come across them if you do any in deep learning"
   ]
  },
  {
   "cell_type": "code",
   "execution_count": 33,
   "id": "391808fc-2140-4c8d-b56b-910c92622f09",
   "metadata": {},
   "outputs": [
    {
     "data": {
      "text/plain": [
       "array([[[[ 1,  2],\n",
       "         [ 3,  4],\n",
       "         [ 5,  6],\n",
       "         [ 7,  8],\n",
       "         [ 9, 10]],\n",
       "\n",
       "        [[11, 12],\n",
       "         [13, 14],\n",
       "         [15, 16],\n",
       "         [17, 18],\n",
       "         [19, 20]]],\n",
       "\n",
       "\n",
       "       [[[21, 22],\n",
       "         [23, 24],\n",
       "         [25, 26],\n",
       "         [27, 28],\n",
       "         [29, 30]],\n",
       "\n",
       "        [[31, 32],\n",
       "         [33, 34],\n",
       "         [35, 36],\n",
       "         [37, 38],\n",
       "         [39, 40]]]])"
      ]
     },
     "execution_count": 33,
     "metadata": {},
     "output_type": "execute_result"
    }
   ],
   "source": [
    "n_ary = np.arange(1,41).reshape(2,2,5,-1)\n",
    "n_ary"
   ]
  },
  {
   "cell_type": "markdown",
   "id": "39310a0f-081c-47c9-b7bf-fe32a7e5ea1d",
   "metadata": {},
   "source": [
    "Think of boxes within boxes... Beyond that it's just the same mechanism over and over again, but it starts to become harder to think about as the number of dimensions grows !"
   ]
  },
  {
   "cell_type": "markdown",
   "id": "0f79f246-e20a-4366-9c9e-5a13e614d092",
   "metadata": {},
   "source": [
    "---\n",
    "\n",
    "### 10. Practice Exercises\n",
    "\n",
    "___"
   ]
  },
  {
   "cell_type": "code",
   "execution_count": 2,
   "id": "501344ca-2d3d-483a-abb7-ec444b0757ca",
   "metadata": {},
   "outputs": [],
   "source": [
    "# Create 2 np arrays and output an array in which every element is the element-wise addition of those 2 arrays"
   ]
  },
  {
   "cell_type": "code",
   "execution_count": 3,
   "id": "9b5739a1-d6ee-4d8c-b850-62177b529a45",
   "metadata": {},
   "outputs": [],
   "source": [
    "# Given a numpy array (matrix), how do you get a numpy array output which is equal to the original matrix multiplied by a scalar?"
   ]
  },
  {
   "cell_type": "code",
   "execution_count": 4,
   "id": "57fcb38f-16de-451e-8c4d-7b9e2a882284",
   "metadata": {},
   "outputs": [],
   "source": [
    "# Convert a 1-D array to a 3-D array"
   ]
  },
  {
   "cell_type": "code",
   "execution_count": 62,
   "id": "5804ea06-9d84-43c4-a7c5-b17abbf07bcc",
   "metadata": {},
   "outputs": [],
   "source": [
    "# Add a column vector array to a matrix array (as an extra column)"
   ]
  },
  {
   "cell_type": "code",
   "execution_count": 8,
   "id": "e1356c2f-8a55-4a57-a6b3-0ed32e257db5",
   "metadata": {},
   "outputs": [],
   "source": [
    "# From 2 numpy arrays of the same shape, extract the indexes in which the elements in the 2 arrays match"
   ]
  },
  {
   "cell_type": "code",
   "execution_count": 7,
   "id": "3adc86d1-6fd8-4afa-93de-41a9daac406d",
   "metadata": {},
   "outputs": [],
   "source": [
    "# Output a 3x3 array of random integers between 0 (inclusive) and 10 (exclusive)"
   ]
  },
  {
   "cell_type": "code",
   "execution_count": 10,
   "id": "afe8c580-97f1-4157-8363-5580802be83a",
   "metadata": {},
   "outputs": [],
   "source": [
    "# Replace the values of the previous array that are lower than 3 with the value 0"
   ]
  },
  {
   "cell_type": "code",
   "execution_count": 64,
   "id": "d00db8c1-c3e5-427b-8394-a63d8eec13b9",
   "metadata": {},
   "outputs": [],
   "source": [
    "# Given 2 numpy arrays as matrices, output the result of matrix multiplying the 2 matrices (as a numpy array)"
   ]
  }
 ],
 "metadata": {
  "kernelspec": {
   "display_name": "Python 3 (ipykernel)",
   "language": "python",
   "name": "python3"
  },
  "language_info": {
   "codemirror_mode": {
    "name": "ipython",
    "version": 3
   },
   "file_extension": ".py",
   "mimetype": "text/x-python",
   "name": "python",
   "nbconvert_exporter": "python",
   "pygments_lexer": "ipython3",
   "version": "3.11.5"
  }
 },
 "nbformat": 4,
 "nbformat_minor": 5
}
