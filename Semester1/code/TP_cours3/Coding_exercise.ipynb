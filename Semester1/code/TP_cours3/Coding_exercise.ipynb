{
 "cells": [
  {
   "cell_type": "markdown",
   "id": "86308d9a-8d31-4a2c-b053-2e5b9d5d3bb2",
   "metadata": {},
   "source": [
    "## 0. Import Dependencies"
   ]
  },
  {
   "cell_type": "code",
   "execution_count": 38,
   "id": "894c2a53-c558-47e8-82c5-54083724608b",
   "metadata": {},
   "outputs": [],
   "source": [
    "import os\n",
    "import requests"
   ]
  },
  {
   "cell_type": "markdown",
   "id": "46c3194f-55f2-4e00-a7b1-1b5210692ff8",
   "metadata": {},
   "source": [
    "## 1. Download text from Gutenberg"
   ]
  },
  {
   "cell_type": "markdown",
   "id": "3b447022-018b-47fa-9148-0cdbba3baa00",
   "metadata": {},
   "source": [
    "Go to https://www.gutenberg.org/ and search for the text of Pride and Prejudice.  Look for the plain text link. To download the contents of the link, use [requests.get()](https://www.w3schools.com/python/ref_requests_get.asp). Store the result in a variable `r`.\n",
    "Then, for practice, store the contents (`r.text`) into a `.txt` file.  \n"
   ]
  },
  {
   "cell_type": "code",
   "execution_count": null,
   "id": "bf925584-9628-43db-986b-d088eb9b5bb7",
   "metadata": {},
   "outputs": [],
   "source": []
  },
  {
   "cell_type": "markdown",
   "id": "7c35c99d-f534-420f-8cdd-4c0f3ef91936",
   "metadata": {},
   "source": [
    "## 2. Divide Text into Paragraphs"
   ]
  },
  {
   "cell_type": "markdown",
   "id": "fff5eecc-0a4c-42a8-8aa1-7353b8af3932",
   "metadata": {},
   "source": [
    "Now open the file you just created and store its contents into a variable `text`"
   ]
  },
  {
   "cell_type": "code",
   "execution_count": null,
   "id": "34b1f717-7082-4f07-af80-a4318d0a8d01",
   "metadata": {},
   "outputs": [],
   "source": []
  },
  {
   "cell_type": "markdown",
   "id": "27bb2ce8-2078-4b27-b048-2b1527d0f79f",
   "metadata": {},
   "source": [
    "Take a look at the string and figure out how to seperate the text into a list of paragraphs.  \n",
    "Print the 1st paragraph.  \n",
    "Print the first 2 paragraphs."
   ]
  },
  {
   "cell_type": "code",
   "execution_count": null,
   "id": "d470bddb-ea3c-4299-9f23-8de369c51fb5",
   "metadata": {},
   "outputs": [],
   "source": []
  },
  {
   "cell_type": "markdown",
   "id": "d46f16cb-ee5f-4df7-804b-770f4ccc4693",
   "metadata": {},
   "source": [
    "## 3. Find and clean 1st Paragraph"
   ]
  },
  {
   "cell_type": "markdown",
   "id": "264ad145-5fad-4a0d-bf5d-7e8fc1d1d9dd",
   "metadata": {},
   "source": [
    "Now find the first paragraph of the actual novel (vs. the text related to Project Gutenberg).  Write a function called `find_first_para` that takes the list of pragraphs you just created as input and outputs the index of the first paragraph of the novel.  \n",
    "Take a look at the list of paragraphs to figure out what criteria to use..."
   ]
  },
  {
   "cell_type": "code",
   "execution_count": null,
   "id": "d1b62448-b199-45c9-8c82-efc00e4e15f3",
   "metadata": {},
   "outputs": [],
   "source": []
  },
  {
   "cell_type": "markdown",
   "id": "9c5105fb-904e-45a0-a9a6-f05e41416d86",
   "metadata": {},
   "source": [
    "Now write a function called `clean_first_para` that takes the first paragraph as input and returns a cleaned version.\n",
    "Eliminate any special characters such as `\\n`\n"
   ]
  },
  {
   "cell_type": "code",
   "execution_count": null,
   "id": "c853db8a-946f-44e4-b24f-bce8abb87443",
   "metadata": {},
   "outputs": [],
   "source": []
  },
  {
   "cell_type": "markdown",
   "id": "a7fe5191-793c-40aa-8f3b-9ec44cf3637d",
   "metadata": {},
   "source": [
    "## 4. Installing Spacy"
   ]
  },
  {
   "cell_type": "code",
   "execution_count": 89,
   "id": "12d1a1d7-8179-4879-95fd-22f9b2fe1e23",
   "metadata": {
    "collapsed": true,
    "jupyter": {
     "outputs_hidden": true
    },
    "tags": []
   },
   "outputs": [
    {
     "name": "stdout",
     "output_type": "stream",
     "text": [
      "Requirement already satisfied: spacy in /Users/armandstricker/miniconda3/envs/ML/lib/python3.9/site-packages (3.2.1)\n",
      "Requirement already satisfied: numpy>=1.15.0 in /Users/armandstricker/miniconda3/envs/ML/lib/python3.9/site-packages (from spacy) (1.21.2)\n",
      "Requirement already satisfied: packaging>=20.0 in /Users/armandstricker/miniconda3/envs/ML/lib/python3.9/site-packages (from spacy) (21.3)\n",
      "Requirement already satisfied: blis<0.8.0,>=0.4.0 in /Users/armandstricker/miniconda3/envs/ML/lib/python3.9/site-packages (from spacy) (0.7.4)\n",
      "Requirement already satisfied: spacy-loggers<2.0.0,>=1.0.0 in /Users/armandstricker/miniconda3/envs/ML/lib/python3.9/site-packages (from spacy) (1.0.1)\n",
      "Requirement already satisfied: requests<3.0.0,>=2.13.0 in /Users/armandstricker/miniconda3/envs/ML/lib/python3.9/site-packages (from spacy) (2.27.1)\n",
      "Requirement already satisfied: setuptools in /Users/armandstricker/miniconda3/envs/ML/lib/python3.9/site-packages (from spacy) (58.0.4)\n",
      "Requirement already satisfied: langcodes<4.0.0,>=3.2.0 in /Users/armandstricker/miniconda3/envs/ML/lib/python3.9/site-packages (from spacy) (3.3.0)\n",
      "Requirement already satisfied: pathy>=0.3.5 in /Users/armandstricker/miniconda3/envs/ML/lib/python3.9/site-packages (from spacy) (0.6.0)\n",
      "Requirement already satisfied: cymem<2.1.0,>=2.0.2 in /Users/armandstricker/miniconda3/envs/ML/lib/python3.9/site-packages (from spacy) (2.0.5)\n",
      "Requirement already satisfied: murmurhash<1.1.0,>=0.28.0 in /Users/armandstricker/miniconda3/envs/ML/lib/python3.9/site-packages (from spacy) (1.0.5)\n",
      "Requirement already satisfied: pydantic!=1.8,!=1.8.1,<1.9.0,>=1.7.4 in /Users/armandstricker/miniconda3/envs/ML/lib/python3.9/site-packages (from spacy) (1.8.2)\n",
      "Requirement already satisfied: wasabi<1.1.0,>=0.8.1 in /Users/armandstricker/miniconda3/envs/ML/lib/python3.9/site-packages (from spacy) (0.8.2)\n",
      "Requirement already satisfied: catalogue<2.1.0,>=2.0.6 in /Users/armandstricker/miniconda3/envs/ML/lib/python3.9/site-packages (from spacy) (2.0.6)\n",
      "Requirement already satisfied: typer<0.5.0,>=0.3.0 in /Users/armandstricker/miniconda3/envs/ML/lib/python3.9/site-packages (from spacy) (0.4.0)\n",
      "Requirement already satisfied: thinc<8.1.0,>=8.0.12 in /Users/armandstricker/miniconda3/envs/ML/lib/python3.9/site-packages (from spacy) (8.0.13)\n",
      "Requirement already satisfied: tqdm<5.0.0,>=4.38.0 in /Users/armandstricker/miniconda3/envs/ML/lib/python3.9/site-packages (from spacy) (4.63.1)\n",
      "Requirement already satisfied: spacy-legacy<3.1.0,>=3.0.8 in /Users/armandstricker/miniconda3/envs/ML/lib/python3.9/site-packages (from spacy) (3.0.8)\n",
      "Requirement already satisfied: preshed<3.1.0,>=3.0.2 in /Users/armandstricker/miniconda3/envs/ML/lib/python3.9/site-packages (from spacy) (3.0.5)\n",
      "Requirement already satisfied: jinja2 in /Users/armandstricker/miniconda3/envs/ML/lib/python3.9/site-packages (from spacy) (3.0.3)\n",
      "Requirement already satisfied: srsly<3.0.0,>=2.4.1 in /Users/armandstricker/miniconda3/envs/ML/lib/python3.9/site-packages (from spacy) (2.4.1)\n",
      "Requirement already satisfied: pyparsing!=3.0.5,>=2.0.2 in /Users/armandstricker/miniconda3/envs/ML/lib/python3.9/site-packages (from packaging>=20.0->spacy) (3.0.7)\n",
      "Requirement already satisfied: smart-open<6.0.0,>=5.0.0 in /Users/armandstricker/miniconda3/envs/ML/lib/python3.9/site-packages (from pathy>=0.3.5->spacy) (5.1.0)\n",
      "Requirement already satisfied: typing-extensions>=3.7.4.3 in /Users/armandstricker/miniconda3/envs/ML/lib/python3.9/site-packages (from pydantic!=1.8,!=1.8.1,<1.9.0,>=1.7.4->spacy) (4.1.1)\n",
      "Requirement already satisfied: charset-normalizer~=2.0.0 in /Users/armandstricker/miniconda3/envs/ML/lib/python3.9/site-packages (from requests<3.0.0,>=2.13.0->spacy) (2.0.10)\n",
      "Requirement already satisfied: urllib3<1.27,>=1.21.1 in /Users/armandstricker/miniconda3/envs/ML/lib/python3.9/site-packages (from requests<3.0.0,>=2.13.0->spacy) (1.26.8)\n",
      "Requirement already satisfied: idna<4,>=2.5 in /Users/armandstricker/miniconda3/envs/ML/lib/python3.9/site-packages (from requests<3.0.0,>=2.13.0->spacy) (3.3)\n",
      "Requirement already satisfied: certifi>=2017.4.17 in /Users/armandstricker/miniconda3/envs/ML/lib/python3.9/site-packages (from requests<3.0.0,>=2.13.0->spacy) (2021.10.8)\n",
      "Requirement already satisfied: click<9.0.0,>=7.1.1 in /Users/armandstricker/miniconda3/envs/ML/lib/python3.9/site-packages (from typer<0.5.0,>=0.3.0->spacy) (8.0.4)\n",
      "Requirement already satisfied: MarkupSafe>=2.0 in /Users/armandstricker/miniconda3/envs/ML/lib/python3.9/site-packages (from jinja2->spacy) (2.0.1)\n"
     ]
    }
   ],
   "source": [
    "!pip3 install spacy"
   ]
  },
  {
   "cell_type": "code",
   "execution_count": 91,
   "id": "558b7595-93a7-4252-a277-472c32914062",
   "metadata": {
    "collapsed": true,
    "jupyter": {
     "outputs_hidden": true
    },
    "tags": []
   },
   "outputs": [
    {
     "name": "stdout",
     "output_type": "stream",
     "text": [
      "Collecting en-core-web-sm==3.2.0\n",
      "  Using cached https://github.com/explosion/spacy-models/releases/download/en_core_web_sm-3.2.0/en_core_web_sm-3.2.0-py3-none-any.whl (13.9 MB)\n",
      "Requirement already satisfied: spacy<3.3.0,>=3.2.0 in /Users/armandstricker/miniconda3/envs/ML/lib/python3.9/site-packages (from en-core-web-sm==3.2.0) (3.2.1)\n",
      "Requirement already satisfied: cymem<2.1.0,>=2.0.2 in /Users/armandstricker/miniconda3/envs/ML/lib/python3.9/site-packages (from spacy<3.3.0,>=3.2.0->en-core-web-sm==3.2.0) (2.0.5)\n",
      "Requirement already satisfied: spacy-loggers<2.0.0,>=1.0.0 in /Users/armandstricker/miniconda3/envs/ML/lib/python3.9/site-packages (from spacy<3.3.0,>=3.2.0->en-core-web-sm==3.2.0) (1.0.1)\n",
      "Requirement already satisfied: langcodes<4.0.0,>=3.2.0 in /Users/armandstricker/miniconda3/envs/ML/lib/python3.9/site-packages (from spacy<3.3.0,>=3.2.0->en-core-web-sm==3.2.0) (3.3.0)\n",
      "Requirement already satisfied: catalogue<2.1.0,>=2.0.6 in /Users/armandstricker/miniconda3/envs/ML/lib/python3.9/site-packages (from spacy<3.3.0,>=3.2.0->en-core-web-sm==3.2.0) (2.0.6)\n",
      "Requirement already satisfied: wasabi<1.1.0,>=0.8.1 in /Users/armandstricker/miniconda3/envs/ML/lib/python3.9/site-packages (from spacy<3.3.0,>=3.2.0->en-core-web-sm==3.2.0) (0.8.2)\n",
      "Requirement already satisfied: numpy>=1.15.0 in /Users/armandstricker/miniconda3/envs/ML/lib/python3.9/site-packages (from spacy<3.3.0,>=3.2.0->en-core-web-sm==3.2.0) (1.21.2)\n",
      "Requirement already satisfied: thinc<8.1.0,>=8.0.12 in /Users/armandstricker/miniconda3/envs/ML/lib/python3.9/site-packages (from spacy<3.3.0,>=3.2.0->en-core-web-sm==3.2.0) (8.0.13)\n",
      "Requirement already satisfied: preshed<3.1.0,>=3.0.2 in /Users/armandstricker/miniconda3/envs/ML/lib/python3.9/site-packages (from spacy<3.3.0,>=3.2.0->en-core-web-sm==3.2.0) (3.0.5)\n",
      "Requirement already satisfied: srsly<3.0.0,>=2.4.1 in /Users/armandstricker/miniconda3/envs/ML/lib/python3.9/site-packages (from spacy<3.3.0,>=3.2.0->en-core-web-sm==3.2.0) (2.4.1)\n",
      "Requirement already satisfied: pathy>=0.3.5 in /Users/armandstricker/miniconda3/envs/ML/lib/python3.9/site-packages (from spacy<3.3.0,>=3.2.0->en-core-web-sm==3.2.0) (0.6.0)\n",
      "Requirement already satisfied: packaging>=20.0 in /Users/armandstricker/miniconda3/envs/ML/lib/python3.9/site-packages (from spacy<3.3.0,>=3.2.0->en-core-web-sm==3.2.0) (21.3)\n",
      "Requirement already satisfied: spacy-legacy<3.1.0,>=3.0.8 in /Users/armandstricker/miniconda3/envs/ML/lib/python3.9/site-packages (from spacy<3.3.0,>=3.2.0->en-core-web-sm==3.2.0) (3.0.8)\n",
      "Requirement already satisfied: blis<0.8.0,>=0.4.0 in /Users/armandstricker/miniconda3/envs/ML/lib/python3.9/site-packages (from spacy<3.3.0,>=3.2.0->en-core-web-sm==3.2.0) (0.7.4)\n",
      "Requirement already satisfied: pydantic!=1.8,!=1.8.1,<1.9.0,>=1.7.4 in /Users/armandstricker/miniconda3/envs/ML/lib/python3.9/site-packages (from spacy<3.3.0,>=3.2.0->en-core-web-sm==3.2.0) (1.8.2)\n",
      "Requirement already satisfied: murmurhash<1.1.0,>=0.28.0 in /Users/armandstricker/miniconda3/envs/ML/lib/python3.9/site-packages (from spacy<3.3.0,>=3.2.0->en-core-web-sm==3.2.0) (1.0.5)\n",
      "Requirement already satisfied: setuptools in /Users/armandstricker/miniconda3/envs/ML/lib/python3.9/site-packages (from spacy<3.3.0,>=3.2.0->en-core-web-sm==3.2.0) (58.0.4)\n",
      "Requirement already satisfied: jinja2 in /Users/armandstricker/miniconda3/envs/ML/lib/python3.9/site-packages (from spacy<3.3.0,>=3.2.0->en-core-web-sm==3.2.0) (3.0.3)\n",
      "Requirement already satisfied: tqdm<5.0.0,>=4.38.0 in /Users/armandstricker/miniconda3/envs/ML/lib/python3.9/site-packages (from spacy<3.3.0,>=3.2.0->en-core-web-sm==3.2.0) (4.63.1)\n",
      "Requirement already satisfied: typer<0.5.0,>=0.3.0 in /Users/armandstricker/miniconda3/envs/ML/lib/python3.9/site-packages (from spacy<3.3.0,>=3.2.0->en-core-web-sm==3.2.0) (0.4.0)\n",
      "Requirement already satisfied: requests<3.0.0,>=2.13.0 in /Users/armandstricker/miniconda3/envs/ML/lib/python3.9/site-packages (from spacy<3.3.0,>=3.2.0->en-core-web-sm==3.2.0) (2.27.1)\n",
      "Requirement already satisfied: pyparsing!=3.0.5,>=2.0.2 in /Users/armandstricker/miniconda3/envs/ML/lib/python3.9/site-packages (from packaging>=20.0->spacy<3.3.0,>=3.2.0->en-core-web-sm==3.2.0) (3.0.7)\n",
      "Requirement already satisfied: smart-open<6.0.0,>=5.0.0 in /Users/armandstricker/miniconda3/envs/ML/lib/python3.9/site-packages (from pathy>=0.3.5->spacy<3.3.0,>=3.2.0->en-core-web-sm==3.2.0) (5.1.0)\n",
      "Requirement already satisfied: typing-extensions>=3.7.4.3 in /Users/armandstricker/miniconda3/envs/ML/lib/python3.9/site-packages (from pydantic!=1.8,!=1.8.1,<1.9.0,>=1.7.4->spacy<3.3.0,>=3.2.0->en-core-web-sm==3.2.0) (4.1.1)\n",
      "Requirement already satisfied: idna<4,>=2.5 in /Users/armandstricker/miniconda3/envs/ML/lib/python3.9/site-packages (from requests<3.0.0,>=2.13.0->spacy<3.3.0,>=3.2.0->en-core-web-sm==3.2.0) (3.3)\n",
      "Requirement already satisfied: charset-normalizer~=2.0.0 in /Users/armandstricker/miniconda3/envs/ML/lib/python3.9/site-packages (from requests<3.0.0,>=2.13.0->spacy<3.3.0,>=3.2.0->en-core-web-sm==3.2.0) (2.0.10)\n",
      "Requirement already satisfied: urllib3<1.27,>=1.21.1 in /Users/armandstricker/miniconda3/envs/ML/lib/python3.9/site-packages (from requests<3.0.0,>=2.13.0->spacy<3.3.0,>=3.2.0->en-core-web-sm==3.2.0) (1.26.8)\n",
      "Requirement already satisfied: certifi>=2017.4.17 in /Users/armandstricker/miniconda3/envs/ML/lib/python3.9/site-packages (from requests<3.0.0,>=2.13.0->spacy<3.3.0,>=3.2.0->en-core-web-sm==3.2.0) (2021.10.8)\n",
      "Requirement already satisfied: click<9.0.0,>=7.1.1 in /Users/armandstricker/miniconda3/envs/ML/lib/python3.9/site-packages (from typer<0.5.0,>=0.3.0->spacy<3.3.0,>=3.2.0->en-core-web-sm==3.2.0) (8.0.4)\n",
      "Requirement already satisfied: MarkupSafe>=2.0 in /Users/armandstricker/miniconda3/envs/ML/lib/python3.9/site-packages (from jinja2->spacy<3.3.0,>=3.2.0->en-core-web-sm==3.2.0) (2.0.1)\n",
      "\u001b[38;5;2m✔ Download and installation successful\u001b[0m\n",
      "You can now load the package via spacy.load('en_core_web_sm')\n"
     ]
    }
   ],
   "source": [
    "# download a model\n",
    "!python3 -m spacy download 'en_core_web_sm'"
   ]
  },
  {
   "cell_type": "markdown",
   "id": "94209cdf-2cdf-442b-9907-352dbdd60b39",
   "metadata": {},
   "source": [
    " ## 5. Using Spacy to Analyze Text \n",
    " https://spacy.io/"
   ]
  },
  {
   "cell_type": "code",
   "execution_count": null,
   "id": "2bbb01e5-e78d-4e40-ba5a-bfd3ce410f47",
   "metadata": {},
   "outputs": [],
   "source": []
  },
  {
   "cell_type": "markdown",
   "id": "0e17f5e7-9d83-4a69-adec-eb02201acc99",
   "metadata": {},
   "source": [
    "### 5.1 Tokenization\n",
    "Tokenization allows you to identify the basic units in your text. \n",
    "These basic units are called tokens. "
   ]
  },
  {
   "cell_type": "code",
   "execution_count": null,
   "id": "566e07c1-bcfa-418b-9d3c-2192bc6c5ed5",
   "metadata": {},
   "outputs": [],
   "source": []
  },
  {
   "cell_type": "markdown",
   "id": "b084b7f6-4aa4-44eb-bf99-769215f06cc4",
   "metadata": {},
   "source": [
    "### 5.2 Lemmatization\n",
    "Lemmatization is the process of reducing inflected forms of a word while still ensuring that the reduced form belongs to the language. This reduced form or root word is called a lemma.\n",
    "For example, organizes, organized and organizing are all forms of organize. Here, organize is the lemma. \n"
   ]
  },
  {
   "cell_type": "code",
   "execution_count": null,
   "id": "6747b351-626b-468b-af85-f316f37a378d",
   "metadata": {},
   "outputs": [],
   "source": []
  },
  {
   "cell_type": "markdown",
   "id": "4dcf281d-5761-42b0-ad98-4b175581190a",
   "metadata": {},
   "source": [
    "### 5.3 POS (Part of Speech) Tagging\n",
    "Here, two attributes of the Token class are accessed:\n",
    "\n",
    "* tag_ lists the fine-grained part of speech. See the tag definitions [here](https://web.archive.org/web/20190206204307/https://www.clips.uantwerpen.be/pages/mbsp-tags), same as spacy.explain(...)\n",
    "* pos_ lists the coarse-grained part of speech.\n"
   ]
  },
  {
   "cell_type": "code",
   "execution_count": null,
   "id": "103e66bf-1615-49c4-a1f7-51c6ad8fec99",
   "metadata": {},
   "outputs": [],
   "source": []
  },
  {
   "cell_type": "markdown",
   "id": "3c15ed3e-ea79-495f-8852-287f72b1d137",
   "metadata": {},
   "source": [
    "### 5.4 Visualization: Using displaCy\n",
    "spaCy comes with a built-in visualizer called displaCy. You can use it to visualize a dependency parse or named entities in a browser or a Jupyter notebook."
   ]
  },
  {
   "cell_type": "code",
   "execution_count": null,
   "id": "092aa232-3184-4b65-9c34-8420304b052b",
   "metadata": {},
   "outputs": [],
   "source": []
  },
  {
   "cell_type": "code",
   "execution_count": null,
   "id": "453fe003-af7c-4c3f-821e-806630518f21",
   "metadata": {},
   "outputs": [],
   "source": []
  }
 ],
 "metadata": {
  "kernelspec": {
   "display_name": "Python 3 (ipykernel)",
   "language": "python",
   "name": "python3"
  },
  "language_info": {
   "codemirror_mode": {
    "name": "ipython",
    "version": 3
   },
   "file_extension": ".py",
   "mimetype": "text/x-python",
   "name": "python",
   "nbconvert_exporter": "python",
   "pygments_lexer": "ipython3",
   "version": "3.11.5"
  }
 },
 "nbformat": 4,
 "nbformat_minor": 5
}
