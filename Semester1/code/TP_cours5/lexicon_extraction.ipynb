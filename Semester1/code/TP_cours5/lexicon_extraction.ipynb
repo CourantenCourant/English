{
 "cells": [
  {
   "cell_type": "markdown",
   "id": "ce849673",
   "metadata": {},
   "source": [
    "## Building the Cooc Table"
   ]
  },
  {
   "cell_type": "code",
   "execution_count": 2,
   "id": "8c6c6bb4",
   "metadata": {},
   "outputs": [],
   "source": [
    "import pprint as pp\n",
    "from collections import defaultdict"
   ]
  },
  {
   "cell_type": "code",
   "execution_count": 3,
   "id": "310a69e7",
   "metadata": {},
   "outputs": [],
   "source": [
    "def build_cooc_table(filepath_fr, filepath_en) :\n",
    "    \n",
    "    # defaultdict provides a default value for the key that does not exist.\n",
    "    cooc_table = defaultdict(dict)\n",
    "\n",
    "    fr = open(filepath_fr, 'r')\n",
    "    en = open(filepath_en, 'r')\n",
    "\n",
    "    for line_fr, line_en in zip(fr, en):\n",
    "        line_fr, line_en = line_fr.split(), line_en.split()\n",
    "        print(cooc_table)\n",
    "        # use set to remove any duplicates\n",
    "        for word_fr in set(line_fr):\n",
    "            # build count dict for the English sentence\n",
    "            if word_fr in cooc_table :\n",
    "                # copy dict if the word in French has already been seen and exists in the cooc table\n",
    "                counts_en = cooc_table[word_fr]\n",
    "            else:\n",
    "                # otherwise initialize a defaultdict =>  \"int\" specifies the type and means we can directly add an int \n",
    "                # value to the count without initializing anything (a default of 0 is set)\n",
    "                counts_en = defaultdict(int)\n",
    "         \n",
    "            for word_en in set(line_en):\n",
    "                counts_en[word_en] += 1\n",
    "\n",
    "            cooc_table[word_fr] = counts_en\n",
    "        print (cooc_table)\n",
    "    \n",
    "    return cooc_table"
   ]
  },
  {
   "cell_type": "markdown",
   "id": "4346c958",
   "metadata": {},
   "source": [
    "## Sorting the cooc table and printing it to a file"
   ]
  },
  {
   "cell_type": "code",
   "execution_count": 12,
   "id": "40fea5a2",
   "metadata": {},
   "outputs": [],
   "source": [
    "def sorted_cooc(cooc_table):\n",
    "    cooc_list = []\n",
    "    for word_fr in cooc_table:\n",
    "        for (word_en, freq) in cooc_table[word_fr].items(): #.items returns a list of keys and values as a tuples\n",
    "            cooc_list.append((word_fr, word_en, freq)) # append the tuple to the list\n",
    "    \n",
    "    \n",
    "    # .sort method has a key parameter which takes a function specifying which elements shoud be compared\n",
    "    # since we are using the frequencies to order our tuples (position 2 in each tuple), the elmt in pos 2 is \n",
    "    # what the function should return\n",
    "    \n",
    "    # lambda functions are a quick way of writing functions :\n",
    "    # lambda cooc_tuple : cooc_tuple[2] \n",
    "    # is equivalent to \n",
    "    # def return_freq(cooc_tuple):\n",
    "    #     return cooc_tuple[2]\n",
    "    cooc_list.sort(key=lambda cooc_tuple : cooc_tuple[2], reverse=True)  \n",
    "\n",
    "    return cooc_list"
   ]
  },
  {
   "cell_type": "code",
   "execution_count": 14,
   "id": "34f9bd02",
   "metadata": {
    "scrolled": true
   },
   "outputs": [
    {
     "name": "stderr",
     "output_type": "stream",
     "text": [
      "IOPub data rate exceeded.\n",
      "The notebook server will temporarily stop sending output\n",
      "to the client in order to avoid crashing it.\n",
      "To change this limit, set the config variable\n",
      "`--NotebookApp.iopub_data_rate_limit`.\n",
      "\n",
      "Current values:\n",
      "NotebookApp.iopub_data_rate_limit=1000000.0 (bytes/sec)\n",
      "NotebookApp.rate_limit_window=3.0 (secs)\n",
      "\n"
     ]
    }
   ],
   "source": [
    "cooc_table = build_cooc_table('./french.corpus', './english.corpus')"
   ]
  },
  {
   "cell_type": "code",
   "execution_count": 15,
   "id": "b164cf32",
   "metadata": {},
   "outputs": [],
   "source": [
    "with open('./naive_lexicon.txt', 'w') as f:\n",
    "    f.write(pp.pformat(sorted_cooc(cooc_table))) # pformat will write a \"prettier\" version of the list to the file"
   ]
  },
  {
   "cell_type": "markdown",
   "id": "9be72027",
   "metadata": {},
   "source": [
    "### Mini Topo sur les fonctions lambda\n",
    "Lambda functions can be very practical sometimes :  usually a shortcut for declaring small single-expression anonymous functions.\n",
    "They behave just like regular functions declared with the \"def\" keyword.\n",
    "Lambdas are restricted to a songle expression, so there isn't even a return statement...\n",
    "\n",
    "In practice:\n",
    "Most frequently used to write short and concise \"key functions\" for sorting iterables by an alternate key, like in the sorted_cooc function above."
   ]
  },
  {
   "cell_type": "code",
   "execution_count": 2,
   "id": "ca6bd8d3",
   "metadata": {},
   "outputs": [
    {
     "name": "stdout",
     "output_type": "stream",
     "text": [
      "8\n"
     ]
    },
    {
     "data": {
      "text/plain": [
       "8"
      ]
     },
     "execution_count": 2,
     "metadata": {},
     "output_type": "execute_result"
    }
   ],
   "source": [
    "# Some examples:\n",
    "add = lambda x, y: x + y \n",
    "print(add(5,3))\n",
    "\n",
    "# Can be used directly inline as an expression :\n",
    "(lambda x, y: x + y)(5,3)"
   ]
  },
  {
   "cell_type": "code",
   "execution_count": 6,
   "id": "e0202961",
   "metadata": {},
   "outputs": [
    {
     "name": "stdout",
     "output_type": "stream",
     "text": [
      "[(3, 'a'), (2, 'b'), (1, 'd')]\n",
      "[0, -1, 1, -2, 2, -3, 3, -4, 4, -5, 5]\n"
     ]
    }
   ],
   "source": [
    "# For sorting :\n",
    "tuples = [(1, 'd'), (2, 'b'), (3, 'a')]\n",
    "print(sorted(tuples, key=lambda x : x[1]))\n",
    "\n",
    "print(sorted(range(-5, 6), key=lambda x: x * x))"
   ]
  },
  {
   "cell_type": "code",
   "execution_count": 9,
   "id": "f02febb7",
   "metadata": {},
   "outputs": [
    {
     "name": "stdout",
     "output_type": "stream",
     "text": [
      "[0, 2, 4, 6, 8, 10, 12, 14]\n",
      "[0, 2, 4, 6, 8, 10, 12, 14]\n",
      "[0, 2, 4, 6, 8, 10, 12, 14]\n"
     ]
    }
   ],
   "source": [
    "# Caveat :\n",
    "# Although it can look \"cool\" to use lambdas whenever you can, it's not always the clearest way to write your code...\n",
    "# Take a second to think if using a lambda function is really the best way to go\n",
    "# If you find yourself doing something remotely complex with a lambda function, using a classic \"def\" funciton is usually a better idea\n",
    "\n",
    "# When filtering a list for example:\n",
    "print(list(filter(lambda x: x % 2 == 0, range(16)))) # not necessarily as readable\n",
    "\n",
    "# vs.\n",
    "print([x for x in range(16) if x % 2 == 0]) # usually a little clearer\n",
    "\n",
    "#vs.\n",
    "\n",
    "def filter_odd_numbers(nums_list):\n",
    "    only_evens = []\n",
    "    for x in nums_list:\n",
    "        if x %2 == 0:\n",
    "            only_evens.append(x)\n",
    "    return only_evens\n",
    "print(filter_odd_numbers(range(16)))"
   ]
  },
  {
   "cell_type": "code",
   "execution_count": 10,
   "id": "807d3669",
   "metadata": {},
   "outputs": [
    {
     "name": "stdout",
     "output_type": "stream",
     "text": [
      "The Zen of Python, by Tim Peters\n",
      "\n",
      "Beautiful is better than ugly.\n",
      "Explicit is better than implicit.\n",
      "Simple is better than complex.\n",
      "Complex is better than complicated.\n",
      "Flat is better than nested.\n",
      "Sparse is better than dense.\n",
      "Readability counts.\n",
      "Special cases aren't special enough to break the rules.\n",
      "Although practicality beats purity.\n",
      "Errors should never pass silently.\n",
      "Unless explicitly silenced.\n",
      "In the face of ambiguity, refuse the temptation to guess.\n",
      "There should be one-- and preferably only one --obvious way to do it.\n",
      "Although that way may not be obvious at first unless you're Dutch.\n",
      "Now is better than never.\n",
      "Although never is often better than *right* now.\n",
      "If the implementation is hard to explain, it's a bad idea.\n",
      "If the implementation is easy to explain, it may be a good idea.\n",
      "Namespaces are one honking great idea -- let's do more of those!\n"
     ]
    }
   ],
   "source": [
    "# The \"Zen of Python\" Easter Egg by Tim Peters\n",
    "# Just a couple of guidelines by the creator you can revisit as much as you like to become a better pythonista\n",
    "import this"
   ]
  }
 ],
 "metadata": {
  "interpreter": {
   "hash": "397704579725e15f5c7cb49fe5f0341eb7531c82d19f2c29d197e8b64ab5776b"
  },
  "kernelspec": {
   "display_name": "Python 3 (ipykernel)",
   "language": "python",
   "name": "python3"
  },
  "language_info": {
   "codemirror_mode": {
    "name": "ipython",
    "version": 3
   },
   "file_extension": ".py",
   "mimetype": "text/x-python",
   "name": "python",
   "nbconvert_exporter": "python",
   "pygments_lexer": "ipython3",
   "version": "3.9.5"
  }
 },
 "nbformat": 4,
 "nbformat_minor": 5
}
